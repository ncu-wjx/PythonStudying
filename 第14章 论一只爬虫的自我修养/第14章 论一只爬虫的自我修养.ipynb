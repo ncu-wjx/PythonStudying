{
 "cells": [
  {
   "cell_type": "markdown",
   "metadata": {},
   "source": [
    "### 入门"
   ]
  },
  {
   "cell_type": "code",
   "execution_count": 4,
   "metadata": {},
   "outputs": [
    {
     "name": "stdout",
     "output_type": "stream",
     "text": [
      "b'<!DOCTYPE html>\\n<html lang=\"en\">\\n<head>\\n    <meta charset=\"UTF-8\">\\n    <meta name=\"viewport\" content=\"width=device-width, initial-scale=1.0\">\\n    <meta name=\"keywords\" content=\"\\xe9\\xb1\\xbcC\\xe5\\xb7\\xa5\\xe4\\xbd\\x9c\\xe5\\xae\\xa4|\\xe5\\x85\\x8d\\xe8\\xb4\\xb9\\xe7\\xbc\\x96\\xe7\\xa8\\x8b\\xe8\\xa7\\x86\\xe9\\xa2\\x91\\xe6\\x95\\x99\\xe5\\xad\\xa6|Python\\xe6\\x95\\x99\\xe5\\xad\\xa6|Web\\xe5\\xbc\\x80\\xe5\\x8f\\x91\\xe6\\x95\\x99\\xe5\\xad\\xa6|\\xe5\\x85\\xa8\\xe6\\xa0\\x88\\xe5\\xbc\\x80\\xe5\\x8f\\x91\\xe6\\x95\\x99\\xe5\\xad\\xa6|C\\xe8\\xaf\\xad\\xe8\\xa8\\x80\\xe6\\x95\\x99\\xe5\\xad\\xa6|\\xe6\\xb1\\x87\\xe7\\xbc\\x96\\xe6\\x95\\x99\\xe5\\xad\\xa6|Win32\\xe5\\xbc\\x80\\xe5\\x8f\\x91|\\xe5\\x8a\\xa0\\xe5\\xaf\\x86\\xe4\\xb8\\x8e\\xe8\\xa7\\xa3\\xe5\\xaf\\x86|Linux\\xe6\\x95\\x99\\xe5\\xad\\xa6\">\\n    <meta name=\"description\" content=\"\\xe9\\xb1\\xbcC\\xe5\\xb7\\xa5\\xe4\\xbd\\x9c\\xe5\\xae\\xa4\\xe4\\xb8\\xba\\xe5\\xa4\\xa7\\xe5\\xae\\xb6\\xe6\\x8f\\x90\\xe4\\xbe\\x9b\\xe6\\x9c\\x80\\xe6\\x9c\\x89\\xe8\\xb6\\xa3\\xe7\\x9a\\x84\\xe7\\xbc\\x96\\xe7\\xa8\\x8b\\xe8\\xa7\\x86\\xe9\\xa2\\x91\\xe6\\x95\\x99\\xe5\\xad\\xa6\\xe3\\x80\\x82\">\\n    <meta name=\"author\" content=\"\\xe9\\xb1\\xbcC\\xe5\\xb7\\xa5\\xe4\\xbd\\x9c\\xe5\\xae\\xa4\">\\n    <title>\\xe9\\xb1\\xbcC\\xe5\\xb7\\xa5\\xe4\\xbd\\x9c\\xe5\\xae\\xa4-\\xe5\\x85\\x8d\\xe8\\xb4\\xb9\\xe7\\xbc\\x96\\xe7\\xa8\\x8b\\xe8\\xa7\\x86\\xe9\\xa2\\x91\\xe6\\x95\\x99\\xe5\\xad\\xa6|Python\\xe6\\x95\\x99\\xe5\\xad\\xa6|Web\\xe5\\xbc\\x80\\xe5\\x8f\\x91\\xe6\\x95\\x99\\xe5\\xad\\xa6|\\xe5\\x85\\xa8\\xe6\\xa0\\x88\\xe5\\xbc\\x80\\xe5\\x8f\\x91\\xe6\\x95\\x99\\xe5\\xad\\xa6|C\\xe8\\xaf\\xad\\xe8\\xa8\\x80\\xe6\\x95\\x99\\xe5\\xad\\xa6|\\xe6\\xb1\\x87\\xe7\\xbc\\x96\\xe6\\x95\\x99\\xe5\\xad\\xa6|Win32\\xe5\\xbc\\x80\\xe5\\x8f\\x91|\\xe5\\x8a\\xa0\\xe5\\xaf\\x86\\xe4\\xb8\\x8e\\xe8\\xa7\\xa3\\xe5\\xaf\\x86|Linux\\xe6\\x95\\x99\\xe5\\xad\\xa6</title>\\n    <link rel=\"shortcut icon\" type=\"image/x-icon\" href=\"img/favicon.ico\">\\n    <link rel=\"stylesheet\" href=\"css/styles.css\">\\n     <!--<link rel=\"stylesheet\" href=\"css/timeline.css\">-->\\n    <script src=\"js/jq.js\"></script>\\n    <script src=\"js/fishcEgg.js\"></script>\\n    <script>\\n        $(document).ready(function() {\\n            var windowHeight = document.documentElement.clientHeight || document.body.clientHeight;\\n\\n            createStoryJS({\\n                type:       \\'timeline\\',\\n                width:      \\'auto\\',\\n                height:     windowHeight,\\n                source:     \\'data.json\\',\\n                start_at_end:true,                          //OPTIONAL START AT LATEST DATE\\n                embed_id:   \\'my-timeline\\'\\n            });\\n\\n            // \\xe6\\xb5\\x8f\\xe8\\xa7\\x88\\xe5\\x99\\xa8\\xe5\\x88\\xa4\\xe6\\x96\\xad\\xef\\xbc\\x8c\\xe5\\xa6\\x82\\xe6\\x9e\\x9c\\xe6\\x98\\xafIE\\xe5\\xbc\\xb9\\xe5\\x87\\xba\\xe6\\x8f\\x90\\xe7\\xa4\\xba\\xe6\\xa1\\x86\\n            function getExplore(){\\n                var Sys = {};\\n                var ua = navigator.userAgent.toLowerCase();\\n                var s;\\n                (s = ua.match(/rv:([\\\\d.]+)\\\\) like gecko/)) ? Sys.ie = s[1] :\\n                    (s = ua.match(/msie ([\\\\d\\\\.]+)/)) ? Sys.ie = s[1] :\\n                        (s = ua.match(/edge\\\\/([\\\\d\\\\.]+)/)) ? Sys.edge = s[1] :\\n                            (s = ua.match(/firefox\\\\/([\\\\d\\\\.]+)/)) ? Sys.firefox = s[1] :\\n                                (s = ua.match(/(?:opera|opr).([\\\\d\\\\.]+)/)) ? Sys.opera = s[1] :\\n                                    (s = ua.match(/chrome\\\\/([\\\\d\\\\.]+)/)) ? Sys.chrome = s[1] :\\n                                        (s = ua.match(/version\\\\/([\\\\d\\\\.]+).*safari/)) ? Sys.safari = s[1] : 0;\\n                // \\xe6\\xa0\\xb9\\xe6\\x8d\\xae\\xe5\\x85\\xb3\\xe7\\xb3\\xbb\\xe8\\xbf\\x9b\\xe8\\xa1\\x8c\\xe5\\x88\\xa4\\xe6\\x96\\xad\\n                if (Sys.ie) alert(\\'\\xe8\\xaf\\xb7\\xe4\\xbd\\xbf\\xe7\\x94\\xa8\\xe9\\x9d\\x9eIE\\xe6\\xb5\\x8f\\xe8\\xa7\\x88\\xe5\\x99\\xa8\\xe6\\x89\\x93\\xe5\\xbc\\x80\\xe6\\x9c\\xac\\xe4\\xb8\\xbb\\xe9\\xa1\\xb5\\');\\n\\n            }\\n            getExplore();\\n\\n        });\\n    </script>\\n    <!-- <script src=\"js/timeline-min.js\"></script>\\n    <script src=\"js/embed.js\"></script> -->\\n    <!-- <script src=\"https://cdn.bootcss.com/timelinejs/2.36.0/js/storyjs-embed.js\"></script> -->\\n    <script src=\"https://cdnjs.cloudflare.com/ajax/libs/timelinejs/2.36.0/js/storyjs-embed.js\"></script>\\n    <!-- END TimelineJS -->\\n</head>\\n<body>\\n<a href=\\'http://fishc.taobao.com\\' target=\\'_blank\\' style=\"position: absolute;z-index: 99999;\"><img style=\"position: fixed; top: 15px; right: 0; border: 0;\" src=\"img/fork.png\" alt=\"Support Thanks\"></a>\\n<div id=\"my-timeline\"></div>\\n\\n<script>\\n    window.onload = function(){\\n        $(\".storyjs-embed.sized-embed\").css(\"padding-top\",\"0\");\\n        $(\".vco-storyjs .vco-feature .vco-slide\").css(\"padding-top\",\"0\");\\n    };\\n\\n</script>\\n</body>\\n</html>'\n"
     ]
    }
   ],
   "source": [
    "import urllib.request\n",
    "response=urllib.request.urlopen(\"http://www.fishc.com\")\n",
    "html=response.read()\n",
    "print(html)"
   ]
  },
  {
   "cell_type": "code",
   "execution_count": 3,
   "metadata": {},
   "outputs": [
    {
     "name": "stdout",
     "output_type": "stream",
     "text": [
      "<!DOCTYPE html>\n",
      "<html lang=\"en\">\n",
      "<head>\n",
      "    <meta charset=\"UTF-8\">\n",
      "    <meta name=\"viewport\" content=\"width=device-width, initial-scale=1.0\">\n",
      "    <meta name=\"keywords\" content=\"鱼C工作室|免费编程视频教学|Python教学|Web开发教学|全栈开发教学|C语言教学|汇编教学|Win32开发|加密与解密|Linux教学\">\n",
      "    <meta name=\"description\" content=\"鱼C工作室为大家提供最有趣的编程视频教学。\">\n",
      "    <meta name=\"author\" content=\"鱼C工作室\">\n",
      "    <title>鱼C工作室-免费编程视频教学|Python教学|Web开发教学|全栈开发教学|C语言教学|汇编教学|Win32开发|加密与解密|Linux教学</title>\n",
      "    <link rel=\"shortcut icon\" type=\"image/x-icon\" href=\"img/favicon.ico\">\n",
      "    <link rel=\"stylesheet\" href=\"css/styles.css\">\n",
      "     <!--<link rel=\"stylesheet\" href=\"css/timeline.css\">-->\n",
      "    <script src=\"js/jq.js\"></script>\n",
      "    <script src=\"js/fishcEgg.js\"></script>\n",
      "    <script>\n",
      "        $(document).ready(function() {\n",
      "            var windowHeight = document.documentElement.clientHeight || document.body.clientHeight;\n",
      "\n",
      "            createStoryJS({\n",
      "                type:       'timeline',\n",
      "                width:      'auto',\n",
      "                height:     windowHeight,\n",
      "                source:     'data.json',\n",
      "                start_at_end:true,                          //OPTIONAL START AT LATEST DATE\n",
      "                embed_id:   'my-timeline'\n",
      "            });\n",
      "\n",
      "            // 浏览器判断，如果是IE弹出提示框\n",
      "            function getExplore(){\n",
      "                var Sys = {};\n",
      "                var ua = navigator.userAgent.toLowerCase();\n",
      "                var s;\n",
      "                (s = ua.match(/rv:([\\d.]+)\\) like gecko/)) ? Sys.ie = s[1] :\n",
      "                    (s = ua.match(/msie ([\\d\\.]+)/)) ? Sys.ie = s[1] :\n",
      "                        (s = ua.match(/edge\\/([\\d\\.]+)/)) ? Sys.edge = s[1] :\n",
      "                            (s = ua.match(/firefox\\/([\\d\\.]+)/)) ? Sys.firefox = s[1] :\n",
      "                                (s = ua.match(/(?:opera|opr).([\\d\\.]+)/)) ? Sys.opera = s[1] :\n",
      "                                    (s = ua.match(/chrome\\/([\\d\\.]+)/)) ? Sys.chrome = s[1] :\n",
      "                                        (s = ua.match(/version\\/([\\d\\.]+).*safari/)) ? Sys.safari = s[1] : 0;\n",
      "                // 根据关系进行判断\n",
      "                if (Sys.ie) alert('请使用非IE浏览器打开本主页');\n",
      "\n",
      "            }\n",
      "            getExplore();\n",
      "\n",
      "        });\n",
      "    </script>\n",
      "    <!-- <script src=\"js/timeline-min.js\"></script>\n",
      "    <script src=\"js/embed.js\"></script> -->\n",
      "    <!-- <script src=\"https://cdn.bootcss.com/timelinejs/2.36.0/js/storyjs-embed.js\"></script> -->\n",
      "    <script src=\"https://cdnjs.cloudflare.com/ajax/libs/timelinejs/2.36.0/js/storyjs-embed.js\"></script>\n",
      "    <!-- END TimelineJS -->\n",
      "</head>\n",
      "<body>\n",
      "<a href='http://fishc.taobao.com' target='_blank' style=\"position: absolute;z-index: 99999;\"><img style=\"position: fixed; top: 15px; right: 0; border: 0;\" src=\"img/fork.png\" alt=\"Support Thanks\"></a>\n",
      "<div id=\"my-timeline\"></div>\n",
      "\n",
      "<script>\n",
      "    window.onload = function(){\n",
      "        $(\".storyjs-embed.sized-embed\").css(\"padding-top\",\"0\");\n",
      "        $(\".vco-storyjs .vco-feature .vco-slide\").css(\"padding-top\",\"0\");\n",
      "    };\n",
      "\n",
      "</script>\n",
      "</body>\n",
      "</html>\n"
     ]
    }
   ],
   "source": [
    "import urllib.request\n",
    "response=urllib.request.urlopen(\"http://www.fishc.com\")\n",
    "html=response.read().decode('utf8')\n",
    "print(html)"
   ]
  },
  {
   "cell_type": "markdown",
   "metadata": {},
   "source": [
    "### 下载一只猫"
   ]
  },
  {
   "cell_type": "code",
   "execution_count": 7,
   "metadata": {},
   "outputs": [],
   "source": [
    "import urllib.request\n",
    "response=urllib.request.urlopen(\"http://placekitten.com/200/300\")\n",
    "cat_img=response.read()\n",
    "with open('cat1.jpg','wb') as f:\n",
    "    f.write(cat_img)"
   ]
  },
  {
   "cell_type": "code",
   "execution_count": 8,
   "metadata": {},
   "outputs": [],
   "source": [
    "#urlopen的url参数既可以是一个字符串也可以是Request对象，如果传入的是字符串，python会将其转换成request对象然后传给urlopen函数\n",
    "import urllib.request\n",
    "req=urllib.request.Request(\"http://placekitten.com/200/300\")\n",
    "response=urllib.request.urlopen(req)\n",
    "cat_img=response.read()\n",
    "with open('cat2.jpg','wb') as f:\n",
    "    f.write(cat_img)"
   ]
  },
  {
   "cell_type": "markdown",
   "metadata": {},
   "source": [
    "### 翻译文本"
   ]
  },
  {
   "cell_type": "code",
   "execution_count": 2,
   "metadata": {},
   "outputs": [
    {
     "name": "stdout",
     "output_type": "stream",
     "text": [
      "                          {\"type\":\"EN2ZH_CN\",\"errorCode\":30,\"elapsedTime\":0,\"translateResult\":[[{\"src\":\"您的请求来源非法，商业用途使用请关注有道翻译API官方网站\\u201C有道智云\\u201D: http:\\/\\/ai.youdao.com\",\"tgt\":\"您的请求来源非法，商业用途使用请关注有道翻译API官方网站\\u201C有道智云\\u201D: http:\\/\\/ai.youdao.com\"}]]}\n",
      "\n"
     ]
    }
   ],
   "source": [
    "#p14_2.py\n",
    "import urllib.request\n",
    "import urllib.parse\n",
    "url=\"http://fanyi.youdao.com/translate?smallresult=dict&smartresult=rule&smallresult=ugc&sessionFrom=http://www.youdao.com/\"\n",
    "data={}\n",
    "data['type']='AUTO'\n",
    "data['i']='I LOVE YOU'\n",
    "data['doctype']='json'\n",
    "data['xmlVersion']='1.6'\n",
    "data['keyfrom']='fanyi.web'\n",
    "data['ue']='UTF-8'\n",
    "data['typoResult']='true'\n",
    "\n",
    "data=urllib.parse.urlencode(data).encode('utf-8')\n",
    "response=urllib.request.urlopen(url,data)\n",
    "html=response.read().decode('utf-8')\n",
    "print(html)\n",
    "#根据结果可以看出有道翻译网站识别该代码为爬虫"
   ]
  },
  {
   "cell_type": "code",
   "execution_count": 3,
   "metadata": {},
   "outputs": [
    {
     "data": {
      "text/plain": [
       "{'elapsedTime': 0,\n",
       " 'errorCode': 30,\n",
       " 'translateResult': [[{'src': '您的请求来源非法，商业用途使用请关注有道翻译API官方网站“有道智云”: http://ai.youdao.com',\n",
       "    'tgt': '您的请求来源非法，商业用途使用请关注有道翻译API官方网站“有道智云”: http://ai.youdao.com'}]],\n",
       " 'type': 'EN2ZH_CN'}"
      ]
     },
     "execution_count": 3,
     "metadata": {},
     "output_type": "execute_result"
    }
   ],
   "source": [
    "import json\n",
    "json.loads(html)"
   ]
  },
  {
   "cell_type": "code",
   "execution_count": 5,
   "metadata": {},
   "outputs": [
    {
     "data": {
      "text/plain": [
       "'您的请求来源非法，商业用途使用请关注有道翻译API官方网站“有道智云”: http://ai.youdao.com'"
      ]
     },
     "execution_count": 5,
     "metadata": {},
     "output_type": "execute_result"
    }
   ],
   "source": [
    "target=json.loads(html)\n",
    "target['translateResult'][0][0]['tgt']"
   ]
  },
  {
   "cell_type": "code",
   "execution_count": 6,
   "metadata": {},
   "outputs": [
    {
     "name": "stdin",
     "output_type": "stream",
     "text": [
      "请输入翻译的内容 游戏\n"
     ]
    },
    {
     "data": {
      "text/plain": [
       "'您的请求来源非法，商业用途使用请关注有道翻译API官方网站“有道智云”: http://ai.youdao.com'"
      ]
     },
     "execution_count": 6,
     "metadata": {},
     "output_type": "execute_result"
    }
   ],
   "source": [
    "#p14_3.py\n",
    "import urllib.request\n",
    "import urllib.parse\n",
    "import json\n",
    "content=input('请输入翻译的内容')\n",
    "url=\"http://fanyi.youdao.com/translate?smallresult=dict&smartresult=rule&smallresult=ugc&sessionFrom=http://www.youdao.com/\"\n",
    "data={}\n",
    "data['type']='AUTO'\n",
    "data['i']=content\n",
    "data['doctype']='json'\n",
    "data['xmlVersion']='1.6'\n",
    "data['keyfrom']='fanyi.web'\n",
    "data['ue']='UTF-8'\n",
    "data['typoResult']='true'\n",
    "\n",
    "data=urllib.parse.urlencode(data).encode('utf-8')\n",
    "response=urllib.request.urlopen(url,data)\n",
    "html=response.read().decode('utf-8')\n",
    "target=json.loads(html)\n",
    "target['translateResult'][0][0]['tgt']\n",
    "#根据结果可以看出有道翻译网站识别该代码为爬虫"
   ]
  },
  {
   "cell_type": "markdown",
   "metadata": {},
   "source": [
    "### 修改User-Agent"
   ]
  },
  {
   "cell_type": "code",
   "execution_count": 13,
   "metadata": {},
   "outputs": [
    {
     "name": "stdin",
     "output_type": "stream",
     "text": [
      "请输入翻译的内容 a\n"
     ]
    },
    {
     "data": {
      "text/plain": [
       "'您的请求来源非法，商业用途使用请关注有道翻译API官方网站“有道智云”: http://ai.youdao.com'"
      ]
     },
     "execution_count": 13,
     "metadata": {},
     "output_type": "execute_result"
    }
   ],
   "source": [
    "#p14_4.py\n",
    "import urllib.request\n",
    "import urllib.parse\n",
    "import json\n",
    "content=input('请输入翻译的内容')\n",
    "url=\"http://fanyi.youdao.com/translate?smallresult=dict&smartresult=rule&smallresult=ugc&sessionFrom=http://www.youdao.com/\"\n",
    "head={}\n",
    "head['Referer']='http://fanyi.youdao.com/'\n",
    "head['User-Agent']='Mozilla/4.0 (compatible; MSIE 7.0; Windows NT 5.1; The World)'\n",
    "data={}\n",
    "data['type']='AUTO'\n",
    "data['i']=content\n",
    "data['doctype']='json'\n",
    "data['xmlVersion']='1.6'\n",
    "data['keyfrom']='fanyi.web'\n",
    "data['ue']='UTF-8'\n",
    "data['typoResult']='true'\n",
    "data=urllib.parse.urlencode(data).encode('utf-8')\n",
    "\n",
    "req=urllib.request.Request(url,data,head)\n",
    "response=urllib.request.urlopen(req)\n",
    "html=response.read().decode('utf-8')\n",
    "target=json.loads(html)\n",
    "target['translateResult'][0][0]['tgt']\n",
    "#根据结果可以看出有道翻译网站识别该代码为爬虫"
   ]
  },
  {
   "cell_type": "code",
   "execution_count": 14,
   "metadata": {},
   "outputs": [
    {
     "data": {
      "text/plain": [
       "{'Referer': 'http://fanyi.youdao.com/',\n",
       " 'User-agent': 'Mozilla/4.0 (compatible; MSIE 7.0; Windows NT 5.1; The World)'}"
      ]
     },
     "execution_count": 14,
     "metadata": {},
     "output_type": "execute_result"
    }
   ],
   "source": [
    "req.headers\n",
    "#可以看出还是未查询到结果，应该是'user-agent'设置有问题"
   ]
  },
  {
   "cell_type": "markdown",
   "metadata": {},
   "source": [
    "### 延迟提交数据"
   ]
  },
  {
   "cell_type": "code",
   "execution_count": 17,
   "metadata": {},
   "outputs": [
    {
     "name": "stdin",
     "output_type": "stream",
     "text": [
      "请输入翻译的内容 hello\n"
     ]
    },
    {
     "name": "stdout",
     "output_type": "stream",
     "text": [
      "您的请求来源非法，商业用途使用请关注有道翻译API官方网站“有道智云”: http://ai.youdao.com\n"
     ]
    },
    {
     "name": "stdin",
     "output_type": "stream",
     "text": [
      "请输入翻译的内容 q!\n"
     ]
    }
   ],
   "source": [
    "#p14_6.py\n",
    "import urllib.request\n",
    "import urllib.parse\n",
    "import json\n",
    "import time\n",
    "url=\"http://fanyi.youdao.com/translate?smallresult=dict&smartresult=rule&smallresult=ugc&sessionFrom=http://www.youdao.com/\"\n",
    "while True:\n",
    "    content=input('请输入翻译的内容')\n",
    "    if content == 'q!':\n",
    "        break\n",
    "    head={}\n",
    "    head['Referer']='http://fanyi.youdao.com/'\n",
    "    head['User-Agent']='Mozilla/5.0 (Windows NT 10.0; WOW64) AppleWebKit/537.36 (KHTML, like Gecko) Chrome/49.0.2623.221 Safari/537.36 SE 2.X MetaSr 1.0'\n",
    "    data={}\n",
    "    data['type']='AUTO'\n",
    "    data['i']=content\n",
    "    data['doctype']='json'\n",
    "    data['xmlVersion']='1.6'\n",
    "    data['keyfrom']='fanyi.web'\n",
    "    data['ue']='UTF-8'\n",
    "    data['typoResult']='true'\n",
    "    data=urllib.parse.urlencode(data).encode('utf-8')\n",
    "\n",
    "    req=urllib.request.Request(url,data,head)\n",
    "    response=urllib.request.urlopen(req)\n",
    "    html=response.read().decode('utf-8')\n",
    "    target=json.loads(html)\n",
    "    print(target['translateResult'][0][0]['tgt'])\n",
    "    time.sleep(5)\n",
    "#根据结果可以看出有道翻译网站识别该代码为爬虫"
   ]
  },
  {
   "cell_type": "markdown",
   "metadata": {},
   "source": [
    "### 使用代理"
   ]
  },
  {
   "cell_type": "code",
   "execution_count": 23,
   "metadata": {},
   "outputs": [
    {
     "ename": "AttributeError",
     "evalue": "'ProxyHandler' object has no attribute 'open'",
     "output_type": "error",
     "traceback": [
      "\u001b[0;31m---------------------------------------------------------------------------\u001b[0m",
      "\u001b[0;31mAttributeError\u001b[0m                            Traceback (most recent call last)",
      "\u001b[0;32m<ipython-input-23-dbce7e289c6a>\u001b[0m in \u001b[0;36m<module>\u001b[0;34m()\u001b[0m\n\u001b[1;32m      4\u001b[0m \u001b[0mopener\u001b[0m\u001b[1;33m=\u001b[0m\u001b[0murllib\u001b[0m\u001b[1;33m.\u001b[0m\u001b[0mrequest\u001b[0m\u001b[1;33m.\u001b[0m\u001b[0mbuild_opener\u001b[0m\u001b[1;33m(\u001b[0m\u001b[0mproxy_support\u001b[0m\u001b[1;33m)\u001b[0m\u001b[1;33m\u001b[0m\u001b[1;33m\u001b[0m\u001b[0m\n\u001b[1;32m      5\u001b[0m \u001b[0murllib\u001b[0m\u001b[1;33m.\u001b[0m\u001b[0mrequest\u001b[0m\u001b[1;33m.\u001b[0m\u001b[0minstall_opener\u001b[0m\u001b[1;33m(\u001b[0m\u001b[0mproxy_support\u001b[0m\u001b[1;33m)\u001b[0m\u001b[1;33m\u001b[0m\u001b[1;33m\u001b[0m\u001b[0m\n\u001b[0;32m----> 6\u001b[0;31m \u001b[0mresponse\u001b[0m\u001b[1;33m=\u001b[0m\u001b[0murllib\u001b[0m\u001b[1;33m.\u001b[0m\u001b[0mrequest\u001b[0m\u001b[1;33m.\u001b[0m\u001b[0murlopen\u001b[0m\u001b[1;33m(\u001b[0m\u001b[0murl\u001b[0m\u001b[1;33m)\u001b[0m\u001b[1;33m\u001b[0m\u001b[1;33m\u001b[0m\u001b[0m\n\u001b[0m\u001b[1;32m      7\u001b[0m \u001b[0mhtml\u001b[0m\u001b[1;33m=\u001b[0m\u001b[0mresponse\u001b[0m\u001b[1;33m.\u001b[0m\u001b[0mread\u001b[0m\u001b[1;33m(\u001b[0m\u001b[1;33m)\u001b[0m\u001b[1;33m.\u001b[0m\u001b[0mdecode\u001b[0m\u001b[1;33m(\u001b[0m\u001b[1;34m'utf-8'\u001b[0m\u001b[1;33m)\u001b[0m\u001b[1;33m\u001b[0m\u001b[1;33m\u001b[0m\u001b[0m\n\u001b[1;32m      8\u001b[0m \u001b[0mprint\u001b[0m\u001b[1;33m(\u001b[0m\u001b[0mhtml\u001b[0m\u001b[1;33m)\u001b[0m\u001b[1;33m\u001b[0m\u001b[1;33m\u001b[0m\u001b[0m\n",
      "\u001b[0;32mD:\\Anaconda3\\lib\\urllib\\request.py\u001b[0m in \u001b[0;36murlopen\u001b[0;34m(url, data, timeout, cafile, capath, cadefault, context)\u001b[0m\n\u001b[1;32m    221\u001b[0m     \u001b[1;32melse\u001b[0m\u001b[1;33m:\u001b[0m\u001b[1;33m\u001b[0m\u001b[1;33m\u001b[0m\u001b[0m\n\u001b[1;32m    222\u001b[0m         \u001b[0mopener\u001b[0m \u001b[1;33m=\u001b[0m \u001b[0m_opener\u001b[0m\u001b[1;33m\u001b[0m\u001b[1;33m\u001b[0m\u001b[0m\n\u001b[0;32m--> 223\u001b[0;31m     \u001b[1;32mreturn\u001b[0m \u001b[0mopener\u001b[0m\u001b[1;33m.\u001b[0m\u001b[0mopen\u001b[0m\u001b[1;33m(\u001b[0m\u001b[0murl\u001b[0m\u001b[1;33m,\u001b[0m \u001b[0mdata\u001b[0m\u001b[1;33m,\u001b[0m \u001b[0mtimeout\u001b[0m\u001b[1;33m)\u001b[0m\u001b[1;33m\u001b[0m\u001b[1;33m\u001b[0m\u001b[0m\n\u001b[0m\u001b[1;32m    224\u001b[0m \u001b[1;33m\u001b[0m\u001b[0m\n\u001b[1;32m    225\u001b[0m \u001b[1;32mdef\u001b[0m \u001b[0minstall_opener\u001b[0m\u001b[1;33m(\u001b[0m\u001b[0mopener\u001b[0m\u001b[1;33m)\u001b[0m\u001b[1;33m:\u001b[0m\u001b[1;33m\u001b[0m\u001b[1;33m\u001b[0m\u001b[0m\n",
      "\u001b[0;31mAttributeError\u001b[0m: 'ProxyHandler' object has no attribute 'open'"
     ]
    }
   ],
   "source": [
    "import urllib.request\n",
    "url='http://www.whatismyip.com.tw/'\n",
    "proxy_support=urllib.request.ProxyHandler({'http':'211.138.121.38:80'})\n",
    "opener=urllib.request.build_opener(proxy_support)\n",
    "urllib.request.install_opener(proxy_support)\n",
    "response=urllib.request.urlopen(url)\n",
    "html=response.read().decode('utf-8')\n",
    "print(html)                    "
   ]
  },
  {
   "cell_type": "code",
   "execution_count": 28,
   "metadata": {},
   "outputs": [
    {
     "name": "stdin",
     "output_type": "stream",
     "text": [
      "请输入需要翻译的句子： f\n"
     ]
    },
    {
     "ename": "AttributeError",
     "evalue": "'ProxyHandler' object has no attribute 'open'",
     "output_type": "error",
     "traceback": [
      "\u001b[0;31m---------------------------------------------------------------------------\u001b[0m",
      "\u001b[0;31mAttributeError\u001b[0m                            Traceback (most recent call last)",
      "\u001b[0;32m<ipython-input-28-f816a4caf6bc>\u001b[0m in \u001b[0;36m<module>\u001b[0;34m()\u001b[0m\n\u001b[1;32m     27\u001b[0m \u001b[0mdata\u001b[0m \u001b[1;33m=\u001b[0m \u001b[0murllib\u001b[0m\u001b[1;33m.\u001b[0m\u001b[0mparse\u001b[0m\u001b[1;33m.\u001b[0m\u001b[0murlencode\u001b[0m\u001b[1;33m(\u001b[0m\u001b[0mdata\u001b[0m\u001b[1;33m)\u001b[0m\u001b[1;33m.\u001b[0m\u001b[0mencode\u001b[0m\u001b[1;33m(\u001b[0m\u001b[1;34m'utf-8'\u001b[0m\u001b[1;33m)\u001b[0m\u001b[1;33m\u001b[0m\u001b[1;33m\u001b[0m\u001b[0m\n\u001b[1;32m     28\u001b[0m \u001b[0mrequest\u001b[0m \u001b[1;33m=\u001b[0m \u001b[0murllib\u001b[0m\u001b[1;33m.\u001b[0m\u001b[0mrequest\u001b[0m\u001b[1;33m.\u001b[0m\u001b[0mRequest\u001b[0m\u001b[1;33m(\u001b[0m\u001b[0murl\u001b[0m\u001b[1;33m=\u001b[0m\u001b[0murl\u001b[0m\u001b[1;33m,\u001b[0m\u001b[0mdata\u001b[0m\u001b[1;33m=\u001b[0m\u001b[0mdata\u001b[0m\u001b[1;33m,\u001b[0m\u001b[0mmethod\u001b[0m\u001b[1;33m=\u001b[0m\u001b[1;34m'POST'\u001b[0m\u001b[1;33m)\u001b[0m\u001b[1;33m\u001b[0m\u001b[1;33m\u001b[0m\u001b[0m\n\u001b[0;32m---> 29\u001b[0;31m \u001b[0mresponse\u001b[0m \u001b[1;33m=\u001b[0m \u001b[0murllib\u001b[0m\u001b[1;33m.\u001b[0m\u001b[0mrequest\u001b[0m\u001b[1;33m.\u001b[0m\u001b[0murlopen\u001b[0m\u001b[1;33m(\u001b[0m\u001b[0mrequest\u001b[0m\u001b[1;33m)\u001b[0m\u001b[1;33m\u001b[0m\u001b[1;33m\u001b[0m\u001b[0m\n\u001b[0m\u001b[1;32m     30\u001b[0m \u001b[0mprint\u001b[0m\u001b[1;33m(\u001b[0m\u001b[0mresponse\u001b[0m\u001b[1;33m.\u001b[0m\u001b[0mread\u001b[0m\u001b[1;33m(\u001b[0m\u001b[1;33m)\u001b[0m\u001b[1;33m.\u001b[0m\u001b[0mdecode\u001b[0m\u001b[1;33m(\u001b[0m\u001b[1;34m'utf-8'\u001b[0m\u001b[1;33m)\u001b[0m\u001b[1;33m)\u001b[0m\u001b[1;33m\u001b[0m\u001b[1;33m\u001b[0m\u001b[0m\n",
      "\u001b[0;32mD:\\Anaconda3\\lib\\urllib\\request.py\u001b[0m in \u001b[0;36murlopen\u001b[0;34m(url, data, timeout, cafile, capath, cadefault, context)\u001b[0m\n\u001b[1;32m    221\u001b[0m     \u001b[1;32melse\u001b[0m\u001b[1;33m:\u001b[0m\u001b[1;33m\u001b[0m\u001b[1;33m\u001b[0m\u001b[0m\n\u001b[1;32m    222\u001b[0m         \u001b[0mopener\u001b[0m \u001b[1;33m=\u001b[0m \u001b[0m_opener\u001b[0m\u001b[1;33m\u001b[0m\u001b[1;33m\u001b[0m\u001b[0m\n\u001b[0;32m--> 223\u001b[0;31m     \u001b[1;32mreturn\u001b[0m \u001b[0mopener\u001b[0m\u001b[1;33m.\u001b[0m\u001b[0mopen\u001b[0m\u001b[1;33m(\u001b[0m\u001b[0murl\u001b[0m\u001b[1;33m,\u001b[0m \u001b[0mdata\u001b[0m\u001b[1;33m,\u001b[0m \u001b[0mtimeout\u001b[0m\u001b[1;33m)\u001b[0m\u001b[1;33m\u001b[0m\u001b[1;33m\u001b[0m\u001b[0m\n\u001b[0m\u001b[1;32m    224\u001b[0m \u001b[1;33m\u001b[0m\u001b[0m\n\u001b[1;32m    225\u001b[0m \u001b[1;32mdef\u001b[0m \u001b[0minstall_opener\u001b[0m\u001b[1;33m(\u001b[0m\u001b[0mopener\u001b[0m\u001b[1;33m)\u001b[0m\u001b[1;33m:\u001b[0m\u001b[1;33m\u001b[0m\u001b[1;33m\u001b[0m\u001b[0m\n",
      "\u001b[0;31mAttributeError\u001b[0m: 'ProxyHandler' object has no attribute 'open'"
     ]
    }
   ],
   "source": [
    "import urllib.request\n",
    "import urllib.parse\n",
    "import json\n",
    "import time\n",
    "import random\n",
    "import hashlib\n",
    "content = input('请输入需要翻译的句子：')\n",
    "url = 'http://fanyi.youdao.com/translate_o?smartresult=dict&smartresult=rule&sessionFrom=https://www.google.com/'\n",
    "data = {}\n",
    "u = 'fanyideskweb'\n",
    "d = content\n",
    "f = str(int(time.time()*1000) + random.randint(1,10))\n",
    "c = 'rY0D^0\\'nM0}g5Mm1z%1G4'\n",
    "sign = hashlib.md5((u + d + f + c).encode('utf-8')).hexdigest()\n",
    "data['i'] = content\n",
    "data['from'] = 'AUTO'\n",
    "data['to'] = 'AUTO'\n",
    "data['smartresult'] = 'dict'\n",
    "data['client'] = 'fanyideskweb'\n",
    "data['salt'] = f\n",
    "data['sign'] = sign\n",
    "data['doctype'] = 'json'\n",
    "data['version'] = '2.1'\n",
    "data['keyfrom'] = 'fanyi.web'\n",
    "data['action'] = 'FY_BY_CL1CKBUTTON'\n",
    "data['typoResult'] = 'true'\n",
    "data = urllib.parse.urlencode(data).encode('utf-8')\n",
    "request = urllib.request.Request(url=url,data=data,method='POST')\n",
    "response = urllib.request.urlopen(request)\n",
    "print(response.read().decode('utf-8'))"
   ]
  },
  {
   "cell_type": "code",
   "execution_count": null,
   "metadata": {},
   "outputs": [],
   "source": []
  }
 ],
 "metadata": {
  "kernelspec": {
   "display_name": "Python 3",
   "language": "python",
   "name": "python3"
  },
  "language_info": {
   "codemirror_mode": {
    "name": "ipython",
    "version": 3
   },
   "file_extension": ".py",
   "mimetype": "text/x-python",
   "name": "python",
   "nbconvert_exporter": "python",
   "pygments_lexer": "ipython3",
   "version": "3.6.8"
  }
 },
 "nbformat": 4,
 "nbformat_minor": 2
}
