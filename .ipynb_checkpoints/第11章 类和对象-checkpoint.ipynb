{
 "cells": [
  {
   "cell_type": "markdown",
   "metadata": {},
   "source": [
    "### p11_1.py"
   ]
  },
  {
   "cell_type": "code",
   "execution_count": 1,
   "metadata": {},
   "outputs": [],
   "source": [
    "class turtle:\n",
    "    color='green'\n",
    "    weight=10\n",
    "    legs=4\n",
    "    shell=True\n",
    "    mouth='大嘴'\n",
    "    def climb(self):\n",
    "        print('爪巴')"
   ]
  },
  {
   "cell_type": "code",
   "execution_count": 2,
   "metadata": {},
   "outputs": [
    {
     "name": "stdout",
     "output_type": "stream",
     "text": [
      "爪巴\n"
     ]
    }
   ],
   "source": [
    "tt=turtle()\n",
    "tt.climb()"
   ]
  },
  {
   "cell_type": "markdown",
   "metadata": {},
   "source": [
    "### self是什么"
   ]
  },
  {
   "cell_type": "code",
   "execution_count": 3,
   "metadata": {},
   "outputs": [],
   "source": [
    "#self类似于C++里面的指针"
   ]
  },
  {
   "cell_type": "code",
   "execution_count": 4,
   "metadata": {},
   "outputs": [
    {
     "name": "stdout",
     "output_type": "stream",
     "text": [
      "小A\n"
     ]
    }
   ],
   "source": [
    "class Ball:\n",
    "    def setName(self,name):\n",
    "        self.name=name\n",
    "    def kick(self):\n",
    "        print(self.name)\n",
    "a=Ball()\n",
    "a.setName('小A')\n",
    "a.kick()    "
   ]
  },
  {
   "cell_type": "code",
   "execution_count": 5,
   "metadata": {},
   "outputs": [
    {
     "ename": "AttributeError",
     "evalue": "'Ball' object has no attribute 'name'",
     "output_type": "error",
     "traceback": [
      "\u001b[0;31m---------------------------------------------------------------------------\u001b[0m",
      "\u001b[0;31mAttributeError\u001b[0m                            Traceback (most recent call last)",
      "\u001b[0;32m<ipython-input-5-c3a096ae1a7c>\u001b[0m in \u001b[0;36m<module>\u001b[0;34m()\u001b[0m\n\u001b[1;32m      1\u001b[0m \u001b[0mb\u001b[0m\u001b[1;33m=\u001b[0m\u001b[0mBall\u001b[0m\u001b[1;33m(\u001b[0m\u001b[1;33m)\u001b[0m\u001b[1;33m\u001b[0m\u001b[1;33m\u001b[0m\u001b[0m\n\u001b[0;32m----> 2\u001b[0;31m \u001b[0mb\u001b[0m\u001b[1;33m.\u001b[0m\u001b[0mkick\u001b[0m\u001b[1;33m(\u001b[0m\u001b[1;33m)\u001b[0m\u001b[1;33m\u001b[0m\u001b[1;33m\u001b[0m\u001b[0m\n\u001b[0m",
      "\u001b[0;32m<ipython-input-4-c7d6e212b371>\u001b[0m in \u001b[0;36mkick\u001b[0;34m(self)\u001b[0m\n\u001b[1;32m      3\u001b[0m         \u001b[0mself\u001b[0m\u001b[1;33m.\u001b[0m\u001b[0mname\u001b[0m\u001b[1;33m=\u001b[0m\u001b[0mname\u001b[0m\u001b[1;33m\u001b[0m\u001b[1;33m\u001b[0m\u001b[0m\n\u001b[1;32m      4\u001b[0m     \u001b[1;32mdef\u001b[0m \u001b[0mkick\u001b[0m\u001b[1;33m(\u001b[0m\u001b[0mself\u001b[0m\u001b[1;33m)\u001b[0m\u001b[1;33m:\u001b[0m\u001b[1;33m\u001b[0m\u001b[1;33m\u001b[0m\u001b[0m\n\u001b[0;32m----> 5\u001b[0;31m         \u001b[0mprint\u001b[0m\u001b[1;33m(\u001b[0m\u001b[0mself\u001b[0m\u001b[1;33m.\u001b[0m\u001b[0mname\u001b[0m\u001b[1;33m)\u001b[0m\u001b[1;33m\u001b[0m\u001b[1;33m\u001b[0m\u001b[0m\n\u001b[0m\u001b[1;32m      6\u001b[0m \u001b[0ma\u001b[0m\u001b[1;33m=\u001b[0m\u001b[0mBall\u001b[0m\u001b[1;33m(\u001b[0m\u001b[1;33m)\u001b[0m\u001b[1;33m\u001b[0m\u001b[1;33m\u001b[0m\u001b[0m\n\u001b[1;32m      7\u001b[0m \u001b[0ma\u001b[0m\u001b[1;33m.\u001b[0m\u001b[0msetName\u001b[0m\u001b[1;33m(\u001b[0m\u001b[1;34m'小A'\u001b[0m\u001b[1;33m)\u001b[0m\u001b[1;33m\u001b[0m\u001b[1;33m\u001b[0m\u001b[0m\n",
      "\u001b[0;31mAttributeError\u001b[0m: 'Ball' object has no attribute 'name'"
     ]
    }
   ],
   "source": [
    "#未定义对象的name属性\n",
    "b=Ball()\n",
    "b.kick()"
   ]
  },
  {
   "cell_type": "markdown",
   "metadata": {},
   "source": [
    "### Python的魔法方法"
   ]
  },
  {
   "cell_type": "code",
   "execution_count": 6,
   "metadata": {},
   "outputs": [
    {
     "name": "stdout",
     "output_type": "stream",
     "text": [
      "小B\n"
     ]
    }
   ],
   "source": [
    "class Potato:\n",
    "    def __init__(self,name):\n",
    "        self.name=name\n",
    "    def kick(self):\n",
    "        print(self.name)\n",
    "p=Potato(\"小B\")\n",
    "p.kick()"
   ]
  },
  {
   "cell_type": "markdown",
   "metadata": {},
   "source": [
    "### 公有和私有"
   ]
  },
  {
   "cell_type": "code",
   "execution_count": 7,
   "metadata": {},
   "outputs": [
    {
     "data": {
      "text/plain": [
       "'小甲鱼'"
      ]
     },
     "execution_count": 7,
     "metadata": {},
     "output_type": "execute_result"
    }
   ],
   "source": [
    "class Person:\n",
    "    name='小甲鱼'\n",
    "p=Person()\n",
    "p.name"
   ]
  },
  {
   "cell_type": "code",
   "execution_count": 8,
   "metadata": {},
   "outputs": [
    {
     "ename": "AttributeError",
     "evalue": "'Person' object has no attribute 'name'",
     "output_type": "error",
     "traceback": [
      "\u001b[0;31m---------------------------------------------------------------------------\u001b[0m",
      "\u001b[0;31mAttributeError\u001b[0m                            Traceback (most recent call last)",
      "\u001b[0;32m<ipython-input-8-d1ff144cc293>\u001b[0m in \u001b[0;36m<module>\u001b[0;34m()\u001b[0m\n\u001b[1;32m      2\u001b[0m     \u001b[0m__name\u001b[0m\u001b[1;33m=\u001b[0m\u001b[1;34m'小甲鱼'\u001b[0m\u001b[1;33m\u001b[0m\u001b[1;33m\u001b[0m\u001b[0m\n\u001b[1;32m      3\u001b[0m \u001b[0mp\u001b[0m\u001b[1;33m=\u001b[0m\u001b[0mPerson\u001b[0m\u001b[1;33m(\u001b[0m\u001b[1;33m)\u001b[0m\u001b[1;33m\u001b[0m\u001b[1;33m\u001b[0m\u001b[0m\n\u001b[0;32m----> 4\u001b[0;31m \u001b[0mp\u001b[0m\u001b[1;33m.\u001b[0m\u001b[0mname\u001b[0m\u001b[1;33m\u001b[0m\u001b[1;33m\u001b[0m\u001b[0m\n\u001b[0m",
      "\u001b[0;31mAttributeError\u001b[0m: 'Person' object has no attribute 'name'"
     ]
    }
   ],
   "source": [
    "#在变量名和函数名前加__,变量名和函数即变成私有属性，不可访问\n",
    "class Person:\n",
    "    __name='小甲鱼'\n",
    "p=Person()\n",
    "p.name"
   ]
  },
  {
   "cell_type": "code",
   "execution_count": 10,
   "metadata": {},
   "outputs": [
    {
     "data": {
      "text/plain": [
       "'小甲鱼'"
      ]
     },
     "execution_count": 10,
     "metadata": {},
     "output_type": "execute_result"
    }
   ],
   "source": [
    "class Person:\n",
    "    def __init__(self,name):\n",
    "        self.__name=name\n",
    "    def getName(self):\n",
    "        return self.__name\n",
    "p=Person('小甲鱼')\n",
    "p.getName()"
   ]
  },
  {
   "cell_type": "code",
   "execution_count": 11,
   "metadata": {},
   "outputs": [
    {
     "data": {
      "text/plain": [
       "'小甲鱼'"
      ]
     },
     "execution_count": 11,
     "metadata": {},
     "output_type": "execute_result"
    }
   ],
   "source": [
    "#在外部使用'_类名__变量名'访问双下划綫开头的私有变量\n",
    "#Python的类没有权限控制，所有变量都可以被外部访问\n",
    "p._Person__name"
   ]
  },
  {
   "cell_type": "markdown",
   "metadata": {},
   "source": [
    "### 继承"
   ]
  },
  {
   "cell_type": "code",
   "execution_count": 13,
   "metadata": {},
   "outputs": [
    {
     "name": "stdout",
     "output_type": "stream",
     "text": [
      "hello\n"
     ]
    }
   ],
   "source": [
    "class Parent:\n",
    "    #写成def hello():这样不行\n",
    "    def hello(self):\n",
    "        print('调用父类')\n",
    "class Child(Parent):\n",
    "    pass\n",
    "c=Child()\n",
    "c.hello()"
   ]
  },
  {
   "cell_type": "code",
   "execution_count": 14,
   "metadata": {},
   "outputs": [
    {
     "name": "stdout",
     "output_type": "stream",
     "text": [
      "调用子类\n"
     ]
    }
   ],
   "source": [
    "#方法名相同，子类覆盖父类方法\n",
    "class Child(Parent):\n",
    "    def hello(self):\n",
    "        print('调用子类')\n",
    "c=Child()\n",
    "c.hello()"
   ]
  },
  {
   "cell_type": "markdown",
   "metadata": {},
   "source": [
    "### p11_2.py"
   ]
  },
  {
   "cell_type": "code",
   "execution_count": 37,
   "metadata": {},
   "outputs": [],
   "source": [
    "import random as r\n",
    "class Fish:\n",
    "    def __init__(self):\n",
    "        self.x=r.randint(0,10)\n",
    "        self.y=r.randint(0,10)\n",
    "    def move(self):\n",
    "        self.x-=1\n",
    "        print(\"location:\",self.x,self.y)\n",
    "class GoldFish(Fish):\n",
    "    pass\n",
    "class Shark(Fish):\n",
    "    def __init__(self):\n",
    "        self.hungry=True\n",
    "    def eat(self):\n",
    "        if self.hungry:\n",
    "            print(\"eat\")\n",
    "            self.hungry=False\n",
    "        else:\n",
    "            print(\"full\")"
   ]
  },
  {
   "cell_type": "code",
   "execution_count": 38,
   "metadata": {},
   "outputs": [],
   "source": [
    "fish=Fish()"
   ]
  },
  {
   "cell_type": "code",
   "execution_count": 39,
   "metadata": {},
   "outputs": [
    {
     "name": "stdout",
     "output_type": "stream",
     "text": [
      "location: 1 7\n"
     ]
    }
   ],
   "source": [
    "fish.move()"
   ]
  },
  {
   "cell_type": "code",
   "execution_count": 40,
   "metadata": {},
   "outputs": [],
   "source": [
    "goldfish=GoldFish()"
   ]
  },
  {
   "cell_type": "code",
   "execution_count": 41,
   "metadata": {},
   "outputs": [
    {
     "name": "stdout",
     "output_type": "stream",
     "text": [
      "location: 7 0\n"
     ]
    }
   ],
   "source": [
    "goldfish.move()"
   ]
  },
  {
   "cell_type": "code",
   "execution_count": 42,
   "metadata": {},
   "outputs": [],
   "source": [
    "shark=Shark()"
   ]
  },
  {
   "cell_type": "code",
   "execution_count": 43,
   "metadata": {},
   "outputs": [
    {
     "name": "stdout",
     "output_type": "stream",
     "text": [
      "eat\n"
     ]
    }
   ],
   "source": [
    "shark.eat()"
   ]
  },
  {
   "cell_type": "code",
   "execution_count": 44,
   "metadata": {},
   "outputs": [
    {
     "name": "stdout",
     "output_type": "stream",
     "text": [
      "full\n"
     ]
    }
   ],
   "source": [
    "shark.eat()"
   ]
  },
  {
   "cell_type": "code",
   "execution_count": 45,
   "metadata": {},
   "outputs": [
    {
     "ename": "AttributeError",
     "evalue": "'Shark' object has no attribute 'x'",
     "output_type": "error",
     "traceback": [
      "\u001b[0;31m---------------------------------------------------------------------------\u001b[0m",
      "\u001b[0;31mAttributeError\u001b[0m                            Traceback (most recent call last)",
      "\u001b[0;32m<ipython-input-45-0e5f957a0e1a>\u001b[0m in \u001b[0;36m<module>\u001b[0;34m()\u001b[0m\n\u001b[0;32m----> 1\u001b[0;31m \u001b[0mshark\u001b[0m\u001b[1;33m.\u001b[0m\u001b[0mmove\u001b[0m\u001b[1;33m(\u001b[0m\u001b[1;33m)\u001b[0m\u001b[1;33m\u001b[0m\u001b[1;33m\u001b[0m\u001b[0m\n\u001b[0m",
      "\u001b[0;32m<ipython-input-37-1ca24fee3c1f>\u001b[0m in \u001b[0;36mmove\u001b[0;34m(self)\u001b[0m\n\u001b[1;32m      5\u001b[0m         \u001b[0mself\u001b[0m\u001b[1;33m.\u001b[0m\u001b[0my\u001b[0m\u001b[1;33m=\u001b[0m\u001b[0mr\u001b[0m\u001b[1;33m.\u001b[0m\u001b[0mrandint\u001b[0m\u001b[1;33m(\u001b[0m\u001b[1;36m0\u001b[0m\u001b[1;33m,\u001b[0m\u001b[1;36m10\u001b[0m\u001b[1;33m)\u001b[0m\u001b[1;33m\u001b[0m\u001b[1;33m\u001b[0m\u001b[0m\n\u001b[1;32m      6\u001b[0m     \u001b[1;32mdef\u001b[0m \u001b[0mmove\u001b[0m\u001b[1;33m(\u001b[0m\u001b[0mself\u001b[0m\u001b[1;33m)\u001b[0m\u001b[1;33m:\u001b[0m\u001b[1;33m\u001b[0m\u001b[1;33m\u001b[0m\u001b[0m\n\u001b[0;32m----> 7\u001b[0;31m         \u001b[0mself\u001b[0m\u001b[1;33m.\u001b[0m\u001b[0mx\u001b[0m\u001b[1;33m-=\u001b[0m\u001b[1;36m1\u001b[0m\u001b[1;33m\u001b[0m\u001b[1;33m\u001b[0m\u001b[0m\n\u001b[0m\u001b[1;32m      8\u001b[0m         \u001b[0mprint\u001b[0m\u001b[1;33m(\u001b[0m\u001b[1;34m\"location:\"\u001b[0m\u001b[1;33m,\u001b[0m\u001b[0mself\u001b[0m\u001b[1;33m.\u001b[0m\u001b[0mx\u001b[0m\u001b[1;33m,\u001b[0m\u001b[0mself\u001b[0m\u001b[1;33m.\u001b[0m\u001b[0my\u001b[0m\u001b[1;33m)\u001b[0m\u001b[1;33m\u001b[0m\u001b[1;33m\u001b[0m\u001b[0m\n\u001b[1;32m      9\u001b[0m \u001b[1;32mclass\u001b[0m \u001b[0mGoldFish\u001b[0m\u001b[1;33m(\u001b[0m\u001b[0mFish\u001b[0m\u001b[1;33m)\u001b[0m\u001b[1;33m:\u001b[0m\u001b[1;33m\u001b[0m\u001b[1;33m\u001b[0m\u001b[0m\n",
      "\u001b[0;31mAttributeError\u001b[0m: 'Shark' object has no attribute 'x'"
     ]
    }
   ],
   "source": [
    "shark.move()"
   ]
  },
  {
   "cell_type": "markdown",
   "metadata": {},
   "source": [
    "### 解决方法一：调用未绑定的父类方法"
   ]
  },
  {
   "cell_type": "code",
   "execution_count": 46,
   "metadata": {},
   "outputs": [],
   "source": [
    "import random as r\n",
    "class Fish:\n",
    "    def __init__(self):\n",
    "        self.x=r.randint(0,10)\n",
    "        self.y=r.randint(0,10)\n",
    "    def move(self):\n",
    "        self.x-=1\n",
    "        print(\"location:\",self.x,self.y)\n",
    "class GoldFish(Fish):\n",
    "    pass\n",
    "class Shark(Fish):\n",
    "    def __init__(self):\n",
    "        Fish.__init__(self)\n",
    "        self.hungry=True\n",
    "    def eat(self):\n",
    "        if self.hungry:\n",
    "            print(\"eat\")\n",
    "            self.hungry=False\n",
    "        else:\n",
    "            print(\"full\")"
   ]
  },
  {
   "cell_type": "code",
   "execution_count": 47,
   "metadata": {},
   "outputs": [
    {
     "name": "stdout",
     "output_type": "stream",
     "text": [
      "location: -1 9\n"
     ]
    }
   ],
   "source": [
    "shark=Shark()\n",
    "shark.move()"
   ]
  },
  {
   "cell_type": "markdown",
   "metadata": {},
   "source": [
    "### 解决方法二：使用super函数"
   ]
  },
  {
   "cell_type": "code",
   "execution_count": 50,
   "metadata": {},
   "outputs": [],
   "source": [
    "import random as r\n",
    "class Fish:\n",
    "    def __init__(self):\n",
    "        self.x=r.randint(0,10)\n",
    "        self.y=r.randint(0,10)\n",
    "    def move(self):\n",
    "        self.x-=1\n",
    "        print(\"location:\",self.x,self.y)\n",
    "class GoldFish(Fish):\n",
    "    pass\n",
    "class Shark(Fish):\n",
    "    def __init__(self):\n",
    "        #不能写成super().__init__(self)\n",
    "        super().__init__()\n",
    "        self.hungry=True\n",
    "    def eat(self):\n",
    "        if self.hungry:\n",
    "            print(\"eat\")\n",
    "            self.hungry=False\n",
    "        else:\n",
    "            print(\"full\")"
   ]
  },
  {
   "cell_type": "code",
   "execution_count": 51,
   "metadata": {},
   "outputs": [
    {
     "name": "stdout",
     "output_type": "stream",
     "text": [
      "location: 8 6\n"
     ]
    }
   ],
   "source": [
    "shark=Shark()\n",
    "shark.move()"
   ]
  },
  {
   "cell_type": "markdown",
   "metadata": {},
   "source": [
    "### 多重继承"
   ]
  },
  {
   "cell_type": "code",
   "execution_count": 53,
   "metadata": {},
   "outputs": [
    {
     "name": "stdout",
     "output_type": "stream",
     "text": [
      "location: 6 4\n"
     ]
    }
   ],
   "source": [
    "#尽量少用\n",
    "import random as r\n",
    "class Fish:\n",
    "    def __init__(self):\n",
    "        self.x=r.randint(0,10)\n",
    "        self.y=r.randint(0,10)\n",
    "    def move(self):\n",
    "        self.x-=1\n",
    "        print(\"location:\",self.x,self.y)\n",
    "class Fish1:\n",
    "    def __init__(self):\n",
    "        self.x=r.randint(5,10)\n",
    "        self.y=r.randint(5,10)\n",
    "    def move1(self):\n",
    "        self.x-=1\n",
    "        print(\"location:\",self.x,self.y)\n",
    "class Shark(Fish,Fish1):\n",
    "    def __init__(self):\n",
    "        #不能写成super().__init__(self)\n",
    "        super().__init__()\n",
    "        self.hungry=True\n",
    "    def eat(self):\n",
    "        if self.hungry:\n",
    "            print(\"eat\")\n",
    "            self.hungry=False\n",
    "        else:\n",
    "            print(\"full\")\n",
    "shark=Shark()\n",
    "shark.move()"
   ]
  },
  {
   "cell_type": "code",
   "execution_count": 54,
   "metadata": {},
   "outputs": [
    {
     "name": "stdout",
     "output_type": "stream",
     "text": [
      "location: 5 4\n"
     ]
    }
   ],
   "source": [
    "shark.move1()"
   ]
  },
  {
   "cell_type": "markdown",
   "metadata": {},
   "source": [
    "### 钻石继承"
   ]
  },
  {
   "cell_type": "code",
   "execution_count": 56,
   "metadata": {},
   "outputs": [
    {
     "name": "stdout",
     "output_type": "stream",
     "text": [
      "8\n"
     ]
    }
   ],
   "source": [
    "#如果子类继承自两个单独的超类，而那两个超类又继承自同一个公共基类，那么就构成了钻石继承体系。这种继承体系很像竖立的菱形，也称作菱形继承。\n",
    "class Base:\n",
    "    def __init__(self, value):\n",
    "        self.value = value \n",
    "class One(Base):\n",
    "    def __init__(self, value):\n",
    "        Base.__init__(self, value)\n",
    "        self.value *= 2 \n",
    "class Two(Base):\n",
    "    def __init__(self, value):\n",
    "        Base.__init__(self, value)\n",
    "        self.value += 3\n",
    "class Ways(One, Two):\n",
    "    def __init__(self, value):\n",
    "        One.__init__(self, value)\n",
    "        Two.__init__(self, value)\n",
    "foo=Ways(5)\n",
    "print(foo.value)"
   ]
  },
  {
   "cell_type": "code",
   "execution_count": 58,
   "metadata": {},
   "outputs": [
    {
     "name": "stdout",
     "output_type": "stream",
     "text": [
      "16\n"
     ]
    }
   ],
   "source": [
    "#解决这个问题的方式是使用super方法，根据方法解析顺序(MRO)以标准化的流程来安排超类之间的初始化顺序，它也能够保证钻石顶部的公共基类的__init__方法之运行一次\n",
    "class Base:\n",
    "    def __init__(self, value):\n",
    "        self.value = value\n",
    "class One(Base):\n",
    "    def __init__(self, value):\n",
    "        super(One, self).__init__(value)\n",
    "        self.value *= 2 \n",
    "class Two(Base):\n",
    "    def __init__(self, value):\n",
    "        super(Two, self).__init__(value)\n",
    "        self.value += 3\n",
    "class Ways(One, Two):\n",
    "    def __init__(self, value):\n",
    "        super(Ways, self).__init__(value)\n",
    "foo = Ways(5)\n",
    "print(foo.value)"
   ]
  },
  {
   "cell_type": "code",
   "execution_count": 60,
   "metadata": {},
   "outputs": [
    {
     "name": "stdout",
     "output_type": "stream",
     "text": [
      "\n",
      "这是怎么回事？为何和我们设想的刚好相反。应该先运行One.__init__，然后运行Two.__init__。但实际却不一样，程序的运行会与Ways的MRO顺序保持一致。调用Ways(5)时，它会调用One.__init__，One.__init__又调用Two.__init__，Two.__init__在调用Base.__init__。到达了钻石继承的顶端，所有的初始化方法会按照与刚才那些__init__相反的顺序操作。\n",
      "\n"
     ]
    }
   ],
   "source": [
    "print('''\n",
    "这是怎么回事？为何和我们设想的刚好相反。应该先运行One.__init__，然后运行Two.__init__。但实际却不一样，程序的运行会与Ways的MRO顺序保持一致。调用Ways(5)时，它会调用One.__init__，One.__init__又调用Two.__init__，Two.__init__在调用Base.__init__。到达了钻石继承的顶端，所有的初始化方法会按照与刚才那些__init__相反的顺序操作。\n",
    "''')"
   ]
  },
  {
   "cell_type": "code",
   "execution_count": 61,
   "metadata": {},
   "outputs": [
    {
     "name": "stdout",
     "output_type": "stream",
     "text": [
      "13\n"
     ]
    }
   ],
   "source": [
    "class Base:\n",
    "    def __init__(self, value):\n",
    "        self.value = value \n",
    "class One(Base):\n",
    "    def __init__(self, value):\n",
    "        super(One, self).__init__(value * 2)\n",
    "class Two(Base):\n",
    "    def __init__(self, value):\n",
    "        super(Two, self).__init__(value + 3)\n",
    "class Ways(One, Two):\n",
    "    def __init__(self, value):\n",
    "        super(Ways, self).__init__(value)\n",
    "foo = Ways(5)\n",
    "print(foo.value)"
   ]
  },
  {
   "cell_type": "markdown",
   "metadata": {},
   "source": [
    "### 组合"
   ]
  },
  {
   "cell_type": "code",
   "execution_count": 62,
   "metadata": {},
   "outputs": [
    {
     "name": "stdout",
     "output_type": "stream",
     "text": [
      "1 10\n"
     ]
    }
   ],
   "source": [
    "class Turtle:\n",
    "    def __init__(self,x):\n",
    "        self.num=x\n",
    "class Fish:\n",
    "    def __init__(self,x):\n",
    "        self.num=x\n",
    "class Pool:\n",
    "    def __init__(self,x,y):\n",
    "        self.turtle=Turtle(x)\n",
    "        self.fish=Fish(y)\n",
    "    def print_num(self):\n",
    "        print(self.turtle.num,self.fish.num)\n",
    "pool=Pool(1,10)\n",
    "pool.print_num()"
   ]
  },
  {
   "cell_type": "markdown",
   "metadata": {},
   "source": [
    "### 类、类对象和实例方法"
   ]
  },
  {
   "cell_type": "code",
   "execution_count": 67,
   "metadata": {},
   "outputs": [],
   "source": [
    "class C:\n",
    "    count=0\n",
    "a=C()\n",
    "b=C()"
   ]
  },
  {
   "cell_type": "code",
   "execution_count": 68,
   "metadata": {},
   "outputs": [
    {
     "name": "stdout",
     "output_type": "stream",
     "text": [
      "10 0\n"
     ]
    }
   ],
   "source": [
    "a.count=10\n",
    "print(a.count,b.count)"
   ]
  },
  {
   "cell_type": "code",
   "execution_count": 69,
   "metadata": {},
   "outputs": [
    {
     "name": "stdout",
     "output_type": "stream",
     "text": [
      "10 100\n"
     ]
    }
   ],
   "source": [
    "C.count+=100\n",
    "print(a.count,b.count)"
   ]
  },
  {
   "cell_type": "code",
   "execution_count": 70,
   "metadata": {},
   "outputs": [
    {
     "name": "stdout",
     "output_type": "stream",
     "text": [
      "Xman\n"
     ]
    }
   ],
   "source": [
    "class C:\n",
    "    def x(self):\n",
    "        print('Xman')\n",
    "c=C()\n",
    "c.x()"
   ]
  },
  {
   "cell_type": "code",
   "execution_count": 71,
   "metadata": {},
   "outputs": [
    {
     "data": {
      "text/plain": [
       "1"
      ]
     },
     "execution_count": 71,
     "metadata": {},
     "output_type": "execute_result"
    }
   ],
   "source": [
    "c.x=1\n",
    "c.x"
   ]
  },
  {
   "cell_type": "code",
   "execution_count": 72,
   "metadata": {},
   "outputs": [
    {
     "ename": "TypeError",
     "evalue": "'int' object is not callable",
     "output_type": "error",
     "traceback": [
      "\u001b[0;31m---------------------------------------------------------------------------\u001b[0m",
      "\u001b[0;31mTypeError\u001b[0m                                 Traceback (most recent call last)",
      "\u001b[0;32m<ipython-input-72-54c1306e95b7>\u001b[0m in \u001b[0;36m<module>\u001b[0;34m()\u001b[0m\n\u001b[0;32m----> 1\u001b[0;31m \u001b[0mc\u001b[0m\u001b[1;33m.\u001b[0m\u001b[0mx\u001b[0m\u001b[1;33m(\u001b[0m\u001b[1;33m)\u001b[0m\u001b[1;33m\u001b[0m\u001b[1;33m\u001b[0m\u001b[0m\n\u001b[0m",
      "\u001b[0;31mTypeError\u001b[0m: 'int' object is not callable"
     ]
    }
   ],
   "source": [
    "c.x()"
   ]
  },
  {
   "cell_type": "markdown",
   "metadata": {},
   "source": [
    "### 到底什么是绑定"
   ]
  },
  {
   "cell_type": "code",
   "execution_count": 113,
   "metadata": {},
   "outputs": [
    {
     "name": "stdout",
     "output_type": "stream",
     "text": [
      "something\n"
     ]
    }
   ],
   "source": [
    "class BB:\n",
    "    def printBB():\n",
    "        print(\"something\")\n",
    "BB.printBB()"
   ]
  },
  {
   "cell_type": "code",
   "execution_count": 114,
   "metadata": {},
   "outputs": [
    {
     "ename": "TypeError",
     "evalue": "printBB() takes 0 positional arguments but 1 was given",
     "output_type": "error",
     "traceback": [
      "\u001b[0;31m---------------------------------------------------------------------------\u001b[0m",
      "\u001b[0;31mTypeError\u001b[0m                                 Traceback (most recent call last)",
      "\u001b[0;32m<ipython-input-114-e8b586c269ca>\u001b[0m in \u001b[0;36m<module>\u001b[0;34m()\u001b[0m\n\u001b[1;32m      1\u001b[0m \u001b[0mbb\u001b[0m\u001b[1;33m=\u001b[0m\u001b[0mBB\u001b[0m\u001b[1;33m(\u001b[0m\u001b[1;33m)\u001b[0m\u001b[1;33m\u001b[0m\u001b[1;33m\u001b[0m\u001b[0m\n\u001b[0;32m----> 2\u001b[0;31m \u001b[0mbb\u001b[0m\u001b[1;33m.\u001b[0m\u001b[0mprintBB\u001b[0m\u001b[1;33m(\u001b[0m\u001b[1;33m)\u001b[0m\u001b[1;33m\u001b[0m\u001b[1;33m\u001b[0m\u001b[0m\n\u001b[0m",
      "\u001b[0;31mTypeError\u001b[0m: printBB() takes 0 positional arguments but 1 was given"
     ]
    }
   ],
   "source": [
    "bb=BB()\n",
    "bb.printBB()"
   ]
  },
  {
   "cell_type": "code",
   "execution_count": 115,
   "metadata": {},
   "outputs": [
    {
     "name": "stdout",
     "output_type": "stream",
     "text": [
      "something\n"
     ]
    }
   ],
   "source": [
    "#这样可以\n",
    "class BB:\n",
    "    def printBB(self):\n",
    "        print(\"something\")\n",
    "bb=BB()\n",
    "bb.printBB()"
   ]
  },
  {
   "cell_type": "code",
   "execution_count": 85,
   "metadata": {},
   "outputs": [
    {
     "data": {
      "text/plain": [
       "{}"
      ]
     },
     "execution_count": 85,
     "metadata": {},
     "output_type": "execute_result"
    }
   ],
   "source": [
    "class CC:\n",
    "    def setXY(self,x,y):\n",
    "        self.x=x\n",
    "        self.y=y\n",
    "    def printXY(self):\n",
    "        print(self.x,self.y)\n",
    "dd=CC()\n",
    "dd.__dict__"
   ]
  },
  {
   "cell_type": "code",
   "execution_count": 86,
   "metadata": {},
   "outputs": [
    {
     "data": {
      "text/plain": [
       "mappingproxy({'__dict__': <attribute '__dict__' of 'CC' objects>,\n",
       "              '__doc__': None,\n",
       "              '__module__': '__main__',\n",
       "              '__weakref__': <attribute '__weakref__' of 'CC' objects>,\n",
       "              'printXY': <function __main__.CC.printXY>,\n",
       "              'setXY': <function __main__.CC.setXY>})"
      ]
     },
     "execution_count": 86,
     "metadata": {},
     "output_type": "execute_result"
    }
   ],
   "source": [
    "CC.__dict__"
   ]
  },
  {
   "cell_type": "code",
   "execution_count": 87,
   "metadata": {},
   "outputs": [
    {
     "data": {
      "text/plain": [
       "{'x': 4, 'y': 5}"
      ]
     },
     "execution_count": 87,
     "metadata": {},
     "output_type": "execute_result"
    }
   ],
   "source": [
    "dd.setXY(4,5)\n",
    "dd.__dict__"
   ]
  },
  {
   "cell_type": "code",
   "execution_count": 88,
   "metadata": {},
   "outputs": [
    {
     "data": {
      "text/plain": [
       "mappingproxy({'__dict__': <attribute '__dict__' of 'CC' objects>,\n",
       "              '__doc__': None,\n",
       "              '__module__': '__main__',\n",
       "              '__weakref__': <attribute '__weakref__' of 'CC' objects>,\n",
       "              'printXY': <function __main__.CC.printXY>,\n",
       "              'setXY': <function __main__.CC.setXY>})"
      ]
     },
     "execution_count": 88,
     "metadata": {},
     "output_type": "execute_result"
    }
   ],
   "source": [
    "CC.__dict__"
   ]
  },
  {
   "cell_type": "code",
   "execution_count": 89,
   "metadata": {},
   "outputs": [],
   "source": [
    "del CC"
   ]
  },
  {
   "cell_type": "code",
   "execution_count": 92,
   "metadata": {},
   "outputs": [
    {
     "name": "stdout",
     "output_type": "stream",
     "text": [
      "4 5\n",
      "None\n",
      "{'x': 4, 'y': 5}\n"
     ]
    }
   ],
   "source": [
    "print(dd.printXY())\n",
    "print(dd.__dict__)\n",
    "#为什么dd能调用printXY()方法？P116"
   ]
  },
  {
   "cell_type": "code",
   "execution_count": 93,
   "metadata": {},
   "outputs": [
    {
     "ename": "NameError",
     "evalue": "name 'CC' is not defined",
     "output_type": "error",
     "traceback": [
      "\u001b[0;31m---------------------------------------------------------------------------\u001b[0m",
      "\u001b[0;31mNameError\u001b[0m                                 Traceback (most recent call last)",
      "\u001b[0;32m<ipython-input-93-dcb1acda8bdf>\u001b[0m in \u001b[0;36m<module>\u001b[0;34m()\u001b[0m\n\u001b[0;32m----> 1\u001b[0;31m \u001b[0mprint\u001b[0m\u001b[1;33m(\u001b[0m\u001b[0mCC\u001b[0m\u001b[1;33m.\u001b[0m\u001b[0m__dict__\u001b[0m\u001b[1;33m)\u001b[0m\u001b[1;33m\u001b[0m\u001b[1;33m\u001b[0m\u001b[0m\n\u001b[0m",
      "\u001b[0;31mNameError\u001b[0m: name 'CC' is not defined"
     ]
    }
   ],
   "source": [
    "print(CC.__dict__)"
   ]
  },
  {
   "cell_type": "markdown",
   "metadata": {},
   "source": [
    "### 补充"
   ]
  },
  {
   "cell_type": "code",
   "execution_count": 109,
   "metadata": {},
   "outputs": [
    {
     "data": {
      "text/plain": [
       "'one'"
      ]
     },
     "execution_count": 109,
     "metadata": {},
     "output_type": "execute_result"
    }
   ],
   "source": [
    "li=['one','two','three','four','five']  # 列表本身不包含数据'one','two','three','four','five'，而是包含变量：li[0] li[1] li[2] li[3] li[4]\n",
    "first=li[0]       # 拷贝列表，也不会有数据对象的复制，而是创建新的变量引用\n",
    "first"
   ]
  },
  {
   "cell_type": "code",
   "execution_count": 110,
   "metadata": {},
   "outputs": [
    {
     "name": "stdout",
     "output_type": "stream",
     "text": [
      "['two', 'three', 'four', 'five']\n",
      "one\n"
     ]
    }
   ],
   "source": [
    "del li[0]\n",
    "print(li)         # ['two','three','four','five']\n",
    "print(first)      # one"
   ]
  },
  {
   "cell_type": "code",
   "execution_count": 111,
   "metadata": {},
   "outputs": [
    {
     "name": "stdout",
     "output_type": "stream",
     "text": [
      "['two', 'three', 'four', 'five']\n"
     ]
    }
   ],
   "source": [
    "list1 = li\n",
    "del li\n",
    "print(list1)      # ['two', 'three', 'four', 'five']\n",
    "#print(type(li))   # NameError: name 'li' is not defined"
   ]
  },
  {
   "cell_type": "code",
   "execution_count": 1,
   "metadata": {},
   "outputs": [
    {
     "name": "stdout",
     "output_type": "stream",
     "text": [
      "A\n"
     ]
    }
   ],
   "source": [
    "#test\n",
    "class A:\n",
    "    def printXY(self):\n",
    "        print('A')\n",
    "a=A()\n",
    "a.printXY()"
   ]
  },
  {
   "cell_type": "code",
   "execution_count": 2,
   "metadata": {},
   "outputs": [
    {
     "name": "stdout",
     "output_type": "stream",
     "text": [
      "A\n"
     ]
    }
   ],
   "source": [
    "del A\n",
    "a.printXY()\n",
    "#可以看出类定义的方法没有被删除"
   ]
  },
  {
   "cell_type": "markdown",
   "metadata": {},
   "source": [
    "### 一些相关的BIF"
   ]
  },
  {
   "cell_type": "code",
   "execution_count": 95,
   "metadata": {},
   "outputs": [],
   "source": [
    "'''\n",
    "1.issubclass(class,classinfo)\n",
    "class为子类，classinfo为父类\n",
    "\n",
    "2.isinstace(object,classinfo)\n",
    "object是否为classinfo的实例对象\n",
    "\n",
    "3.hasattr(object,name)\n",
    "hasattr(c1,'x')\n",
    "\n",
    "4.getattr(object,name[,default])\n",
    "返回对象指定的属性值\n",
    "\n",
    "5.setattr(object,name,value)\n",
    "setattr(c1,'y','FishC')=>c1.y=FishC\n",
    "\n",
    "6.delattr(object,name)\n",
    "delattr(c1,'y')\n",
    "\n",
    "7.property(fget=None,fset=None,fdel=None,doc=None)\n",
    "'''\n",
    "class C:\n",
    "    def __init__(self,size=10):\n",
    "        self.size=size\n",
    "    def getSize(self):\n",
    "        return self.size\n",
    "    def setSize(self,value):\n",
    "        self.size=value\n",
    "    def delSize(self):\n",
    "        del self.size\n",
    "    x=property(getSize,setSize,delSize)"
   ]
  },
  {
   "cell_type": "code",
   "execution_count": 97,
   "metadata": {},
   "outputs": [
    {
     "data": {
      "text/plain": [
       "10"
      ]
     },
     "execution_count": 97,
     "metadata": {},
     "output_type": "execute_result"
    }
   ],
   "source": [
    "c=C()\n",
    "c.x"
   ]
  },
  {
   "cell_type": "code",
   "execution_count": 98,
   "metadata": {},
   "outputs": [],
   "source": [
    "c.x=12"
   ]
  },
  {
   "cell_type": "code",
   "execution_count": 99,
   "metadata": {},
   "outputs": [
    {
     "data": {
      "text/plain": [
       "12"
      ]
     },
     "execution_count": 99,
     "metadata": {},
     "output_type": "execute_result"
    }
   ],
   "source": [
    "c.x"
   ]
  },
  {
   "cell_type": "code",
   "execution_count": 100,
   "metadata": {},
   "outputs": [
    {
     "data": {
      "text/plain": [
       "12"
      ]
     },
     "execution_count": 100,
     "metadata": {},
     "output_type": "execute_result"
    }
   ],
   "source": [
    "c.size"
   ]
  },
  {
   "cell_type": "code",
   "execution_count": 101,
   "metadata": {},
   "outputs": [],
   "source": [
    "del c.x"
   ]
  },
  {
   "cell_type": "code",
   "execution_count": 102,
   "metadata": {},
   "outputs": [
    {
     "ename": "AttributeError",
     "evalue": "'C' object has no attribute 'size'",
     "output_type": "error",
     "traceback": [
      "\u001b[0;31m---------------------------------------------------------------------------\u001b[0m",
      "\u001b[0;31mAttributeError\u001b[0m                            Traceback (most recent call last)",
      "\u001b[0;32m<ipython-input-102-1f89b44c0846>\u001b[0m in \u001b[0;36m<module>\u001b[0;34m()\u001b[0m\n\u001b[0;32m----> 1\u001b[0;31m \u001b[0mc\u001b[0m\u001b[1;33m.\u001b[0m\u001b[0mx\u001b[0m\u001b[1;33m\u001b[0m\u001b[1;33m\u001b[0m\u001b[0m\n\u001b[0m",
      "\u001b[0;32m<ipython-input-95-845ac5564eb6>\u001b[0m in \u001b[0;36mgetSize\u001b[0;34m(self)\u001b[0m\n\u001b[1;32m     24\u001b[0m         \u001b[0mself\u001b[0m\u001b[1;33m.\u001b[0m\u001b[0msize\u001b[0m\u001b[1;33m=\u001b[0m\u001b[0msize\u001b[0m\u001b[1;33m\u001b[0m\u001b[1;33m\u001b[0m\u001b[0m\n\u001b[1;32m     25\u001b[0m     \u001b[1;32mdef\u001b[0m \u001b[0mgetSize\u001b[0m\u001b[1;33m(\u001b[0m\u001b[0mself\u001b[0m\u001b[1;33m)\u001b[0m\u001b[1;33m:\u001b[0m\u001b[1;33m\u001b[0m\u001b[1;33m\u001b[0m\u001b[0m\n\u001b[0;32m---> 26\u001b[0;31m         \u001b[1;32mreturn\u001b[0m \u001b[0mself\u001b[0m\u001b[1;33m.\u001b[0m\u001b[0msize\u001b[0m\u001b[1;33m\u001b[0m\u001b[1;33m\u001b[0m\u001b[0m\n\u001b[0m\u001b[1;32m     27\u001b[0m     \u001b[1;32mdef\u001b[0m \u001b[0msetSize\u001b[0m\u001b[1;33m(\u001b[0m\u001b[0mself\u001b[0m\u001b[1;33m,\u001b[0m\u001b[0mvalue\u001b[0m\u001b[1;33m)\u001b[0m\u001b[1;33m:\u001b[0m\u001b[1;33m\u001b[0m\u001b[1;33m\u001b[0m\u001b[0m\n\u001b[1;32m     28\u001b[0m         \u001b[0mself\u001b[0m\u001b[1;33m.\u001b[0m\u001b[0msize\u001b[0m\u001b[1;33m=\u001b[0m\u001b[0mvalue\u001b[0m\u001b[1;33m\u001b[0m\u001b[1;33m\u001b[0m\u001b[0m\n",
      "\u001b[0;31mAttributeError\u001b[0m: 'C' object has no attribute 'size'"
     ]
    }
   ],
   "source": [
    "c.x"
   ]
  },
  {
   "cell_type": "code",
   "execution_count": 103,
   "metadata": {},
   "outputs": [
    {
     "ename": "AttributeError",
     "evalue": "'C' object has no attribute 'size'",
     "output_type": "error",
     "traceback": [
      "\u001b[0;31m---------------------------------------------------------------------------\u001b[0m",
      "\u001b[0;31mAttributeError\u001b[0m                            Traceback (most recent call last)",
      "\u001b[0;32m<ipython-input-103-afa47dd09f1f>\u001b[0m in \u001b[0;36m<module>\u001b[0;34m()\u001b[0m\n\u001b[0;32m----> 1\u001b[0;31m \u001b[0mc\u001b[0m\u001b[1;33m.\u001b[0m\u001b[0msize\u001b[0m\u001b[1;33m\u001b[0m\u001b[1;33m\u001b[0m\u001b[0m\n\u001b[0m",
      "\u001b[0;31mAttributeError\u001b[0m: 'C' object has no attribute 'size'"
     ]
    }
   ],
   "source": [
    "c.size"
   ]
  },
  {
   "cell_type": "code",
   "execution_count": null,
   "metadata": {},
   "outputs": [],
   "source": []
  }
 ],
 "metadata": {
  "kernelspec": {
   "display_name": "Python 3",
   "language": "python",
   "name": "python3"
  },
  "language_info": {
   "codemirror_mode": {
    "name": "ipython",
    "version": 3
   },
   "file_extension": ".py",
   "mimetype": "text/x-python",
   "name": "python",
   "nbconvert_exporter": "python",
   "pygments_lexer": "ipython3",
   "version": "3.6.8"
  }
 },
 "nbformat": 4,
 "nbformat_minor": 2
}
