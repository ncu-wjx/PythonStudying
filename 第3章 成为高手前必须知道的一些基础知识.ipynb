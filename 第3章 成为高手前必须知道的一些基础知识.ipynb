{
 "cells": [
  {
   "cell_type": "markdown",
   "metadata": {},
   "source": [
    "### 字符串"
   ]
  },
  {
   "cell_type": "code",
   "execution_count": 2,
   "metadata": {},
   "outputs": [
    {
     "data": {
      "text/plain": [
       "\"Let's go\""
      ]
     },
     "execution_count": 2,
     "metadata": {},
     "output_type": "execute_result"
    }
   ],
   "source": [
    "#字符串需要出现单引号或双引号怎么办？\n",
    "#1.转义\n",
    "'Let\\'s go'"
   ]
  },
  {
   "cell_type": "code",
   "execution_count": 3,
   "metadata": {},
   "outputs": [
    {
     "data": {
      "text/plain": [
       "\"Let's go\""
      ]
     },
     "execution_count": 3,
     "metadata": {},
     "output_type": "execute_result"
    }
   ],
   "source": [
    "#2.利用不同的引号\n",
    "\"Let's go\""
   ]
  },
  {
   "cell_type": "code",
   "execution_count": 7,
   "metadata": {},
   "outputs": [
    {
     "data": {
      "text/plain": [
       "'Let\"s go'"
      ]
     },
     "execution_count": 7,
     "metadata": {},
     "output_type": "execute_result"
    }
   ],
   "source": [
    "#显示双引号\n",
    "\"Let\\\"s go\""
   ]
  },
  {
   "cell_type": "markdown",
   "metadata": {},
   "source": [
    "### ※※※原始字符串"
   ]
  },
  {
   "cell_type": "code",
   "execution_count": 8,
   "metadata": {},
   "outputs": [
    {
     "data": {
      "text/plain": [
       "'C:\\now'"
      ]
     },
     "execution_count": 8,
     "metadata": {},
     "output_type": "execute_result"
    }
   ],
   "source": [
    "string='C:\\now'\n",
    "string"
   ]
  },
  {
   "cell_type": "code",
   "execution_count": 9,
   "metadata": {},
   "outputs": [
    {
     "name": "stdout",
     "output_type": "stream",
     "text": [
      "C:\n",
      "ow\n"
     ]
    }
   ],
   "source": [
    "print(string)\n",
    "#print处理字符串string"
   ]
  },
  {
   "cell_type": "code",
   "execution_count": 11,
   "metadata": {},
   "outputs": [
    {
     "data": {
      "text/plain": [
       "'C:\\\\now'"
      ]
     },
     "execution_count": 11,
     "metadata": {},
     "output_type": "execute_result"
    }
   ],
   "source": [
    "string1=r'C:\\now'\n",
    "string1"
   ]
  },
  {
   "cell_type": "code",
   "execution_count": 12,
   "metadata": {},
   "outputs": [
    {
     "name": "stdout",
     "output_type": "stream",
     "text": [
      "C:\\now\n"
     ]
    }
   ],
   "source": [
    "print(string1)"
   ]
  },
  {
   "cell_type": "code",
   "execution_count": 14,
   "metadata": {},
   "outputs": [
    {
     "ename": "SyntaxError",
     "evalue": "EOL while scanning string literal (<ipython-input-14-5a7c98c0a26c>, line 1)",
     "output_type": "error",
     "traceback": [
      "\u001b[0;36m  File \u001b[0;32m\"<ipython-input-14-5a7c98c0a26c>\"\u001b[0;36m, line \u001b[0;32m1\u001b[0m\n\u001b[0;31m    string='FishC\\'\u001b[0m\n\u001b[0m                   ^\u001b[0m\n\u001b[0;31mSyntaxError\u001b[0m\u001b[0;31m:\u001b[0m EOL while scanning string literal\n"
     ]
    }
   ],
   "source": [
    "#字符串不能以\\结尾\n",
    "string='FishC\\'"
   ]
  },
  {
   "cell_type": "code",
   "execution_count": 15,
   "metadata": {},
   "outputs": [
    {
     "ename": "SyntaxError",
     "evalue": "EOL while scanning string literal (<ipython-input-15-b2357065a330>, line 1)",
     "output_type": "error",
     "traceback": [
      "\u001b[0;36m  File \u001b[0;32m\"<ipython-input-15-b2357065a330>\"\u001b[0;36m, line \u001b[0;32m1\u001b[0m\n\u001b[0;31m    string='FishC'+'\\'\u001b[0m\n\u001b[0m                      ^\u001b[0m\n\u001b[0;31mSyntaxError\u001b[0m\u001b[0;31m:\u001b[0m EOL while scanning string literal\n"
     ]
    }
   ],
   "source": [
    "string='FishC'+'\\'"
   ]
  },
  {
   "cell_type": "code",
   "execution_count": 16,
   "metadata": {},
   "outputs": [
    {
     "name": "stdout",
     "output_type": "stream",
     "text": [
      "\\n\\n\\n\\n\\n\\n\\\n"
     ]
    }
   ],
   "source": [
    "#print(r\"\\n\\n\\n\\n\\n\\n\\\")——因为最后的反斜杠转义了后面跟着的引号,因此我们需要对转义进行反转义，然后删除最后一个反义字符。\n",
    "print(r\"\\n\\n\\n\\n\\n\\n\\\\\"[:-1])"
   ]
  },
  {
   "cell_type": "code",
   "execution_count": 17,
   "metadata": {},
   "outputs": [
    {
     "name": "stdout",
     "output_type": "stream",
     "text": [
      "fishc\\\n"
     ]
    }
   ],
   "source": [
    "print(r\"fishc\\\\\"[:-1])"
   ]
  },
  {
   "cell_type": "code",
   "execution_count": 18,
   "metadata": {},
   "outputs": [
    {
     "name": "stdout",
     "output_type": "stream",
     "text": [
      "fishc\\\\\n"
     ]
    }
   ],
   "source": [
    "print(r\"fishc\\\\\")"
   ]
  },
  {
   "cell_type": "markdown",
   "metadata": {},
   "source": [
    "### 长字符串"
   ]
  },
  {
   "cell_type": "code",
   "execution_count": 20,
   "metadata": {},
   "outputs": [
    {
     "name": "stdout",
     "output_type": "stream",
     "text": [
      "\n",
      "《无名情书》\n",
      "我当是这人世间无法洗净的恶\n",
      "自私自利心思歹毒尖酸又刻薄\n",
      "可也曾剖开血肉奉上真心一颗\n",
      "尝过人情冷暖任霜雪浸透骨骼\n",
      "刀不会有第二次机会划过脉络\n",
      "怕疼的我宁愿先浑噩残喘的活\n",
      "只是路过的你请听我说\n",
      "别对我太好了\n",
      "我怕死时想起你会不舍\n",
      "我拿身体暖雪冰\n",
      "而它愈发坚硬\n",
      "试学慈佛割块肉喂鹰\n",
      "它竟厌恶绕行\n",
      "取心头血饲魔\n",
      "它嫌比鱼脏腑腥\n",
      "你感我所有良善温柔\n",
      "不过表面泡影\n",
      "你送最嫩一抹春\n",
      "予我瞬间萎落\n",
      "取夏夜最亮星盏赠我\n",
      "可它溃散成沫\n",
      "秋果冬青也不屑\n",
      "与我共同存活\n",
      "这样的我怎么值得你\n",
      "专程忙碌奔波\n",
      "这世间或许\n",
      "没有我的容身之所\n",
      "你说要破开虚廓\n",
      "为我建新王国\n",
      "你苦渡十八地府\n",
      "取一朵红莲火\n",
      "可用它焚去丑恶\n",
      "毕竟灵魂澄澈\n",
      "窗外满天星斗突然相约着坠落\n",
      "我学你虔诚闭眼折衣双手轻合\n",
      "愿你能与珍视之人相逢\n",
      "只可惜将来\n",
      "陪在你身边那人不会是我\n",
      "我拿身体暖雪冰\n",
      "而它愈发坚硬\n",
      "试学慈佛割块肉喂鹰\n",
      "它竟厌恶绕行\n",
      "取心头血饲魔\n",
      "它嫌比鱼脏腑腥\n",
      "你感我所有良善温柔\n",
      "不过表面泡影\n",
      "你送最嫩一抹春\n",
      "予我瞬间萎落\n",
      "取夏夜最亮星盏赠我\n",
      "可它溃散成沫\n",
      "秋果冬青也不屑\n",
      "与我共同存活\n",
      "这样的我怎么值得你\n",
      "专程忙碌奔波\n",
      "你说体不暖雪冰\n",
      "因居高山寒顶\n",
      "割肉绕行急归巢的鹰\n",
      "是因闻雏鸟鸣\n",
      "魔不噬血腥因惧\n",
      "瞳中清亮的星\n",
      "而我所有良善温柔\n",
      "都值得被肯定\n",
      "你说春花不堪折\n",
      "本就瞬间的景\n",
      "零碎溃散的星是夏夜\n",
      "你捉来的流萤\n",
      "秋果来年才苏醒\n",
      "冬雪覆盖树长青\n",
      "世间最美的景\n",
      "是挣破绝望后的生命\n",
      "你跋山涉水而来\n",
      "温柔拥我入怀\n",
      "永远不要妄自菲薄\n",
      "你值得所有人爱\n",
      "\n"
     ]
    }
   ],
   "source": [
    "print('''\n",
    "《无名情书》\n",
    "我当是这人世间无法洗净的恶\n",
    "自私自利心思歹毒尖酸又刻薄\n",
    "可也曾剖开血肉奉上真心一颗\n",
    "尝过人情冷暖任霜雪浸透骨骼\n",
    "刀不会有第二次机会划过脉络\n",
    "怕疼的我宁愿先浑噩残喘的活\n",
    "只是路过的你请听我说\n",
    "别对我太好了\n",
    "我怕死时想起你会不舍\n",
    "我拿身体暖雪冰\n",
    "而它愈发坚硬\n",
    "试学慈佛割块肉喂鹰\n",
    "它竟厌恶绕行\n",
    "取心头血饲魔\n",
    "它嫌比鱼脏腑腥\n",
    "你感我所有良善温柔\n",
    "不过表面泡影\n",
    "你送最嫩一抹春\n",
    "予我瞬间萎落\n",
    "取夏夜最亮星盏赠我\n",
    "可它溃散成沫\n",
    "秋果冬青也不屑\n",
    "与我共同存活\n",
    "这样的我怎么值得你\n",
    "专程忙碌奔波\n",
    "这世间或许\n",
    "没有我的容身之所\n",
    "你说要破开虚廓\n",
    "为我建新王国\n",
    "你苦渡十八地府\n",
    "取一朵红莲火\n",
    "可用它焚去丑恶\n",
    "毕竟灵魂澄澈\n",
    "窗外满天星斗突然相约着坠落\n",
    "我学你虔诚闭眼折衣双手轻合\n",
    "愿你能与珍视之人相逢\n",
    "只可惜将来\n",
    "陪在你身边那人不会是我\n",
    "我拿身体暖雪冰\n",
    "而它愈发坚硬\n",
    "试学慈佛割块肉喂鹰\n",
    "它竟厌恶绕行\n",
    "取心头血饲魔\n",
    "它嫌比鱼脏腑腥\n",
    "你感我所有良善温柔\n",
    "不过表面泡影\n",
    "你送最嫩一抹春\n",
    "予我瞬间萎落\n",
    "取夏夜最亮星盏赠我\n",
    "可它溃散成沫\n",
    "秋果冬青也不屑\n",
    "与我共同存活\n",
    "这样的我怎么值得你\n",
    "专程忙碌奔波\n",
    "你说体不暖雪冰\n",
    "因居高山寒顶\n",
    "割肉绕行急归巢的鹰\n",
    "是因闻雏鸟鸣\n",
    "魔不噬血腥因惧\n",
    "瞳中清亮的星\n",
    "而我所有良善温柔\n",
    "都值得被肯定\n",
    "你说春花不堪折\n",
    "本就瞬间的景\n",
    "零碎溃散的星是夏夜\n",
    "你捉来的流萤\n",
    "秋果来年才苏醒\n",
    "冬雪覆盖树长青\n",
    "世间最美的景\n",
    "是挣破绝望后的生命\n",
    "你跋山涉水而来\n",
    "温柔拥我入怀\n",
    "永远不要妄自菲薄\n",
    "你值得所有人爱\n",
    "''')"
   ]
  },
  {
   "cell_type": "markdown",
   "metadata": {},
   "source": [
    "### p3_1.py"
   ]
  },
  {
   "cell_type": "code",
   "execution_count": 25,
   "metadata": {},
   "outputs": [
    {
     "name": "stdin",
     "output_type": "stream",
     "text": [
      "请输入一个数 4\n",
      "猜错了，请再次输入一个数 5\n"
     ]
    },
    {
     "name": "stdout",
     "output_type": "stream",
     "text": [
      "smaller\n"
     ]
    },
    {
     "name": "stdin",
     "output_type": "stream",
     "text": [
      "猜错了，请再次输入一个数 7\n"
     ]
    },
    {
     "name": "stdout",
     "output_type": "stream",
     "text": [
      "smaller\n"
     ]
    },
    {
     "name": "stdin",
     "output_type": "stream",
     "text": [
      "猜错了，请再次输入一个数 9\n"
     ]
    },
    {
     "name": "stdout",
     "output_type": "stream",
     "text": [
      "right\n",
      "over\n"
     ]
    }
   ],
   "source": [
    "import random\n",
    "secret=random.randint(1,10)\n",
    "guess=int(input('请输入一个数'))\n",
    "while guess!=secret:\n",
    "    guess=int(input('猜错了，请再次输入一个数'))   \n",
    "    if guess==secret:\n",
    "        print('right')\n",
    "    else:\n",
    "        if(guess>secret):\n",
    "            print('bigger')\n",
    "        else:\n",
    "            print('smaller')\n",
    "print('over')\n",
    "#该代码逻辑比较混乱"
   ]
  },
  {
   "cell_type": "code",
   "execution_count": 26,
   "metadata": {},
   "outputs": [
    {
     "name": "stdout",
     "output_type": "stream",
     "text": [
      "猜数游戏！\n"
     ]
    },
    {
     "name": "stdin",
     "output_type": "stream",
     "text": [
      "请输入一个整数： 30\n"
     ]
    },
    {
     "name": "stdout",
     "output_type": "stream",
     "text": [
      "偏小！\n"
     ]
    },
    {
     "name": "stdin",
     "output_type": "stream",
     "text": [
      "请输入一个整数： 40\n"
     ]
    },
    {
     "name": "stdout",
     "output_type": "stream",
     "text": [
      "偏小！\n"
     ]
    },
    {
     "name": "stdin",
     "output_type": "stream",
     "text": [
      "请输入一个整数： 60\n"
     ]
    },
    {
     "name": "stdout",
     "output_type": "stream",
     "text": [
      "偏小！\n"
     ]
    },
    {
     "name": "stdin",
     "output_type": "stream",
     "text": [
      "请输入一个整数： 70\n"
     ]
    },
    {
     "name": "stdout",
     "output_type": "stream",
     "text": [
      "偏小！\n"
     ]
    },
    {
     "name": "stdin",
     "output_type": "stream",
     "text": [
      "请输入一个整数： 80\n"
     ]
    },
    {
     "name": "stdout",
     "output_type": "stream",
     "text": [
      "偏大！\n"
     ]
    },
    {
     "name": "stdin",
     "output_type": "stream",
     "text": [
      "请输入一个整数： 75\n"
     ]
    },
    {
     "name": "stdout",
     "output_type": "stream",
     "text": [
      "偏小！\n"
     ]
    },
    {
     "name": "stdin",
     "output_type": "stream",
     "text": [
      "请输入一个整数： 77\n"
     ]
    },
    {
     "name": "stdout",
     "output_type": "stream",
     "text": [
      "偏小！\n"
     ]
    },
    {
     "name": "stdin",
     "output_type": "stream",
     "text": [
      "请输入一个整数： 78\n"
     ]
    },
    {
     "name": "stdout",
     "output_type": "stream",
     "text": [
      "偏小！\n"
     ]
    },
    {
     "name": "stdin",
     "output_type": "stream",
     "text": [
      "请输入一个整数： 79\n"
     ]
    },
    {
     "name": "stdout",
     "output_type": "stream",
     "text": [
      "猜对了！你猜了9次\n"
     ]
    }
   ],
   "source": [
    "# -*- coding: utf-8 -*-\n",
    "import random\n",
    "guess = random.randint(10,100)\n",
    "print('猜数游戏！')\n",
    "SUM = 0\n",
    "while(1):\n",
    "    a = input('请输入一个整数：')\n",
    "    if(a == '退出'):\n",
    "        exit(0)\n",
    "    elif(int(a) > guess):\n",
    "        print('偏大！')\n",
    "        SUM = SUM + 1\n",
    "    elif(int(a) < guess):\n",
    "        print('偏小！')\n",
    "        SUM = SUM + 1\n",
    "    elif(int(a) == guess):\n",
    "        SUM = SUM + 1\n",
    "        print('猜对了！你猜了' + str(SUM) + '次')\n",
    "        break\n",
    "#逻辑比较清楚"
   ]
  },
  {
   "cell_type": "markdown",
   "metadata": {},
   "source": [
    "### 获取关于类型的信息"
   ]
  },
  {
   "cell_type": "code",
   "execution_count": 22,
   "metadata": {},
   "outputs": [
    {
     "data": {
      "text/plain": [
       "int"
      ]
     },
     "execution_count": 22,
     "metadata": {},
     "output_type": "execute_result"
    }
   ],
   "source": [
    "#利用type()\n",
    "type(1)"
   ]
  },
  {
   "cell_type": "code",
   "execution_count": null,
   "metadata": {},
   "outputs": [],
   "source": []
  }
 ],
 "metadata": {
  "kernelspec": {
   "display_name": "Python 3",
   "language": "python",
   "name": "python3"
  },
  "language_info": {
   "codemirror_mode": {
    "name": "ipython",
    "version": 3
   },
   "file_extension": ".py",
   "mimetype": "text/x-python",
   "name": "python",
   "nbconvert_exporter": "python",
   "pygments_lexer": "ipython3",
   "version": "3.6.8"
  }
 },
 "nbformat": 4,
 "nbformat_minor": 2
}
