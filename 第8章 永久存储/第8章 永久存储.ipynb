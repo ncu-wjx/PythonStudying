{
 "cells": [
  {
   "cell_type": "markdown",
   "metadata": {},
   "source": [
    "### 文件的读取与定位"
   ]
  },
  {
   "cell_type": "code",
   "execution_count": 29,
   "metadata": {},
   "outputs": [],
   "source": [
    "f=open('record.txt',encoding='utf8')"
   ]
  },
  {
   "cell_type": "code",
   "execution_count": 30,
   "metadata": {},
   "outputs": [
    {
     "data": {
      "text/plain": [
       "'待写入的数据2\\n待写入的数据2\\n待写入的数据2\\n待写入的数据2\\n'"
      ]
     },
     "execution_count": 30,
     "metadata": {},
     "output_type": "execute_result"
    }
   ],
   "source": [
    "f.read()"
   ]
  },
  {
   "cell_type": "code",
   "execution_count": 31,
   "metadata": {},
   "outputs": [
    {
     "data": {
      "text/plain": [
       "84"
      ]
     },
     "execution_count": 31,
     "metadata": {},
     "output_type": "execute_result"
    }
   ],
   "source": [
    "f.tell()"
   ]
  },
  {
   "cell_type": "code",
   "execution_count": 32,
   "metadata": {},
   "outputs": [
    {
     "data": {
      "text/plain": [
       "0"
      ]
     },
     "execution_count": 32,
     "metadata": {},
     "output_type": "execute_result"
    }
   ],
   "source": [
    "f.seek(0,0)"
   ]
  },
  {
   "cell_type": "code",
   "execution_count": 33,
   "metadata": {},
   "outputs": [
    {
     "data": {
      "text/plain": [
       "'待写入的数'"
      ]
     },
     "execution_count": 33,
     "metadata": {},
     "output_type": "execute_result"
    }
   ],
   "source": [
    "f.read(5)"
   ]
  },
  {
   "cell_type": "code",
   "execution_count": 34,
   "metadata": {},
   "outputs": [
    {
     "data": {
      "text/plain": [
       "15"
      ]
     },
     "execution_count": 34,
     "metadata": {},
     "output_type": "execute_result"
    }
   ],
   "source": [
    "f.tell()"
   ]
  },
  {
   "cell_type": "code",
   "execution_count": 35,
   "metadata": {},
   "outputs": [
    {
     "name": "stdout",
     "output_type": "stream",
     "text": [
      "待写入的数据2\n",
      "\n",
      "待写入的数据2\n",
      "\n",
      "待写入的数据2\n",
      "\n",
      "待写入的数据2\n",
      "\n"
     ]
    }
   ],
   "source": [
    "#逐行输出文件信息\n",
    "f.seek(0,0)\n",
    "for each in f:\n",
    "    print(each)"
   ]
  },
  {
   "cell_type": "markdown",
   "metadata": {},
   "source": [
    "### 文件的写入"
   ]
  },
  {
   "cell_type": "code",
   "execution_count": 28,
   "metadata": {},
   "outputs": [],
   "source": [
    "#利用with open ... as f这种方式比较好\n",
    "file=\"record.txt\"\n",
    "with open(file,'a+',encoding='utf8') as f:\n",
    "    f.seek(0,2)\n",
    "    f.write(\"待写入的数据2\"+'\\n')\n",
    "#没用"
   ]
  },
  {
   "cell_type": "markdown",
   "metadata": {},
   "source": [
    "### 文件系统:介绍一个高大上的东西"
   ]
  },
  {
   "cell_type": "code",
   "execution_count": 26,
   "metadata": {},
   "outputs": [
    {
     "data": {
      "text/plain": [
       "5"
      ]
     },
     "execution_count": 26,
     "metadata": {},
     "output_type": "execute_result"
    }
   ],
   "source": [
    "import random\n",
    "random.randint(0,9)"
   ]
  },
  {
   "cell_type": "code",
   "execution_count": 45,
   "metadata": {},
   "outputs": [
    {
     "data": {
      "text/plain": [
       "'F:\\\\project\\\\小甲鱼学python\\\\第8章 永久存储'"
      ]
     },
     "execution_count": 45,
     "metadata": {},
     "output_type": "execute_result"
    }
   ],
   "source": [
    "#getcwd(),获取当前目录\n",
    "import os\n",
    "os.getcwd()"
   ]
  },
  {
   "cell_type": "code",
   "execution_count": 46,
   "metadata": {},
   "outputs": [],
   "source": [
    "#chdir()，改变当前目录"
   ]
  },
  {
   "cell_type": "code",
   "execution_count": 47,
   "metadata": {},
   "outputs": [
    {
     "data": {
      "text/plain": [
       "['.ipynb_checkpoints',\n",
       " 'record.txt',\n",
       " 'record1.txt',\n",
       " 'record2.txt',\n",
       " '第8章 永久存储.ipynb']"
      ]
     },
     "execution_count": 47,
     "metadata": {},
     "output_type": "execute_result"
    }
   ],
   "source": [
    "#listdir(path='.'),path参数用于指定列举的目录，.是根目录\n",
    "os.listdir()"
   ]
  },
  {
   "cell_type": "code",
   "execution_count": 48,
   "metadata": {},
   "outputs": [
    {
     "data": {
      "text/plain": [
       "['.ipynb_checkpoints',\n",
       " 'record.txt',\n",
       " 'record1.txt',\n",
       " 'record2.txt',\n",
       " 'test',\n",
       " '第8章 永久存储.ipynb']"
      ]
     },
     "execution_count": 48,
     "metadata": {},
     "output_type": "execute_result"
    }
   ],
   "source": [
    "#mkdir()，创建一个目录\n",
    "os.mkdir(\"test\")\n",
    "os.listdir()"
   ]
  },
  {
   "cell_type": "code",
   "execution_count": 49,
   "metadata": {},
   "outputs": [
    {
     "data": {
      "text/plain": [
       "['.ipynb_checkpoints',\n",
       " 'record.txt',\n",
       " 'record1.txt',\n",
       " 'record2.txt',\n",
       " '第8章 永久存储.ipynb']"
      ]
     },
     "execution_count": 49,
     "metadata": {},
     "output_type": "execute_result"
    }
   ],
   "source": [
    "#remove(path)\n",
    "#rmdir(path)\n",
    "#removedirs(path)\n",
    "os.rmdir(\"test\")\n",
    "os.listdir()"
   ]
  },
  {
   "cell_type": "code",
   "execution_count": 50,
   "metadata": {},
   "outputs": [],
   "source": [
    "#rename(old,new)"
   ]
  },
  {
   "cell_type": "code",
   "execution_count": 51,
   "metadata": {},
   "outputs": [
    {
     "data": {
      "text/plain": [
       "0"
      ]
     },
     "execution_count": 51,
     "metadata": {},
     "output_type": "execute_result"
    }
   ],
   "source": [
    "#system(commmand),唤起操作系统提供的工具\n",
    "os.system(\"calc\")"
   ]
  },
  {
   "cell_type": "code",
   "execution_count": 52,
   "metadata": {},
   "outputs": [
    {
     "name": "stdout",
     "output_type": "stream",
     "text": [
      "('E:\\\\iso', [], ['ubuntu-18.04.2-live-server-amd64.iso'])\n"
     ]
    }
   ],
   "source": [
    "#walk(top)，遍历top参数指定路径下的所有子目录并将结果返回一个三元组\n",
    "for i in os.walk(\"E:\\iso\"):\n",
    "    print(i)\n",
    "#路径,[包含目录],[包含文件]"
   ]
  },
  {
   "cell_type": "markdown",
   "metadata": {},
   "source": [
    "#### 以下是os.path()的使用"
   ]
  },
  {
   "cell_type": "code",
   "execution_count": 53,
   "metadata": {},
   "outputs": [],
   "source": [
    "#basename(path),获取文件名\n",
    "#dirname(path),获取路径名"
   ]
  },
  {
   "cell_type": "code",
   "execution_count": 54,
   "metadata": {},
   "outputs": [],
   "source": [
    "#join(path[,path[,...]]),将文件名和路径名组合成一个完整的路径"
   ]
  },
  {
   "cell_type": "code",
   "execution_count": 55,
   "metadata": {},
   "outputs": [],
   "source": [
    "#split(path)\n",
    "#splittext(path)"
   ]
  },
  {
   "cell_type": "code",
   "execution_count": 58,
   "metadata": {},
   "outputs": [
    {
     "data": {
      "text/plain": [
       "527"
      ]
     },
     "execution_count": 58,
     "metadata": {},
     "output_type": "execute_result"
    }
   ],
   "source": [
    "#getsize(file),获取文件的尺寸，返回值以字节为单位\n",
    "os.path.getsize(\"record.txt\")"
   ]
  },
  {
   "cell_type": "code",
   "execution_count": 63,
   "metadata": {},
   "outputs": [
    {
     "name": "stdout",
     "output_type": "stream",
     "text": [
      "time.struct_time(tm_year=2019, tm_mon=6, tm_mday=27, tm_hour=19, tm_min=20, tm_sec=35, tm_wday=3, tm_yday=178, tm_isdst=0)\n",
      "27 Jun 2019 19:20:35\n"
     ]
    }
   ],
   "source": [
    "#getatime(file)\n",
    "#getctime(file)\n",
    "#getmtime(file)\n",
    "#分别显示文件访问access、创建create、修改modify时间\n",
    "import time\n",
    "temp=time.localtime(os.path.getmtime(\"record.txt\"))\n",
    "print(temp)\n",
    "print(time.strftime(\"%d %b %Y %H:%M:%S\",temp))"
   ]
  },
  {
   "cell_type": "markdown",
   "metadata": {},
   "source": [
    "### pickle"
   ]
  },
  {
   "cell_type": "code",
   "execution_count": 64,
   "metadata": {},
   "outputs": [],
   "source": [
    "#将Python对象转换成二进制的形式存放，pickling\n",
    "#反之为unpickling\n",
    "import pickle\n",
    "mylist=['a','b']\n",
    "pickle_file=open('pickle_file.pkl','wb')\n",
    "pickle.dump(mylist,pickle_file)\n",
    "pickle_file.close()"
   ]
  },
  {
   "cell_type": "code",
   "execution_count": 65,
   "metadata": {},
   "outputs": [
    {
     "data": {
      "text/plain": [
       "['a', 'b']"
      ]
     },
     "execution_count": 65,
     "metadata": {},
     "output_type": "execute_result"
    }
   ],
   "source": [
    "import pickle\n",
    "pickle_file=open('pickle_file.pkl','rb')\n",
    "mylist=pickle.load(pickle_file)\n",
    "mylist"
   ]
  },
  {
   "cell_type": "markdown",
   "metadata": {},
   "source": [
    "### 一个任务 P83"
   ]
  },
  {
   "cell_type": "code",
   "execution_count": 5,
   "metadata": {},
   "outputs": [],
   "source": [
    "f = open('record1.txt',encoding='utf8')\n",
    "boy = []\n",
    "girl = []\n",
    "count = 1\n",
    "for each_line in f:\n",
    "    if each_line[:6] != '======':\n",
    "        (role, line_spoken) = each_line.split(':', 1)\n",
    "        if role == '小甲鱼':\n",
    "            boy.append(line_spoken)\n",
    "        if role == '小客服':\n",
    "            girl.append(line_spoken)\n",
    "    else:\n",
    "        file_name_boy = 'boy_' + str(count) + '.txt'\n",
    "        file_name_girl = 'girl_' + str(count) + '.txt'\n",
    "        boy_file = open(file_name_boy, 'w',encoding='utf8')\n",
    "        girl_file = open(file_name_girl, 'w',encoding='utf8')\n",
    "        boy_file.writelines(boy)\n",
    "        girl_file.writelines(girl)\n",
    "        boy_file.close()\n",
    "        girl_file.close()\n",
    "        boy = []\n",
    "        girl = []\n",
    "        count += 1\n",
    "file_name_boy = 'boy_' + str(count) + '.txt'\n",
    "file_name_girl = 'girl_' + str(count) + '.txt'\n",
    "boy_file = open(file_name_boy, 'w',encoding='utf8')\n",
    "girl_file = open(file_name_girl, 'w',encoding='utf8')\n",
    "boy_file.writelines(boy)\n",
    "girl_file.writelines(girl)\n",
    "boy_file.close()\n",
    "girl_file.close()\n",
    "f.close()"
   ]
  },
  {
   "cell_type": "code",
   "execution_count": 10,
   "metadata": {},
   "outputs": [],
   "source": [
    "#函数封装后的代码\n",
    "import sys\n",
    "def save_file(boy,girl,count):\n",
    "    boy_file_name = 'boy_' + str(count) + '.txt'\n",
    "    girl_file_name = 'girl_' + str(count) + '.txt'\n",
    "    boy_file = open(boy_file_name,'w',encoding='utf8')       #创建文件\n",
    "    girl_file = open(girl_file_name,'w',encoding='utf8')\n",
    "    boy_file.writelines(boy)\n",
    "    girl_file.writelines(girl)\n",
    "def split_file(file_name):\n",
    "    boy = []\n",
    "    girl = []\n",
    "    count = 1\n",
    "    f = open(file_name,encoding='utf8')\n",
    "    for each_line in f:\n",
    "        if each_line[:6] != \"======\":\n",
    "            (name,content) = each_line.split(':',1) # 字符串分割\n",
    "            if name == '小甲鱼':\n",
    "                boy.append(content)\n",
    "            else:\n",
    "                girl.append(content)\n",
    "        else:\n",
    "            save_file(boy,girl,count)\n",
    "            boy = []\n",
    "            girl = []\n",
    "            count += 1\n",
    "    save_file(boy,girl,count)\n",
    "    f.close()   #记得close文件\n",
    "split_file('record1.txt')"
   ]
  },
  {
   "cell_type": "code",
   "execution_count": 1,
   "metadata": {},
   "outputs": [
    {
     "data": {
      "text/plain": [
       "['1', '2', '3']"
      ]
     },
     "execution_count": 1,
     "metadata": {},
     "output_type": "execute_result"
    }
   ],
   "source": [
    "#(role, line_spoken) = each_line.split(':', 1)解释\n",
    "'''\n",
    "str.split(sep=None, maxsplit=-1) #第二个参数代表最大分割数,是1的话最大分割数为2.maxsplit默认为-1（既不指定maxsplit的值）,最大分割。\n",
    "'''\n",
    "#例子\n",
    "'1,2,3'.split(',')"
   ]
  },
  {
   "cell_type": "code",
   "execution_count": 2,
   "metadata": {},
   "outputs": [
    {
     "data": {
      "text/plain": [
       "['1', '2,3']"
      ]
     },
     "execution_count": 2,
     "metadata": {},
     "output_type": "execute_result"
    }
   ],
   "source": [
    "'1,2,3'.split(',', maxsplit=1)"
   ]
  },
  {
   "cell_type": "code",
   "execution_count": 3,
   "metadata": {},
   "outputs": [
    {
     "data": {
      "text/plain": [
       "['1', '2', '', '3', '']"
      ]
     },
     "execution_count": 3,
     "metadata": {},
     "output_type": "execute_result"
    }
   ],
   "source": [
    "'1,2,,3,'.split(',')"
   ]
  },
  {
   "cell_type": "code",
   "execution_count": null,
   "metadata": {},
   "outputs": [],
   "source": []
  }
 ],
 "metadata": {
  "kernelspec": {
   "display_name": "Python 3",
   "language": "python",
   "name": "python3"
  },
  "language_info": {
   "codemirror_mode": {
    "name": "ipython",
    "version": 3
   },
   "file_extension": ".py",
   "mimetype": "text/x-python",
   "name": "python",
   "nbconvert_exporter": "python",
   "pygments_lexer": "ipython3",
   "version": "3.6.8"
  }
 },
 "nbformat": 4,
 "nbformat_minor": 2
}
