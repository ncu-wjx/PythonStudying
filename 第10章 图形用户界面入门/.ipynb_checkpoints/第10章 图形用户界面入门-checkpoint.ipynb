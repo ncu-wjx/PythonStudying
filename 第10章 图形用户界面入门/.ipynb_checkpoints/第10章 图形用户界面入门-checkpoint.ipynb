{
 "cells": [
  {
   "cell_type": "code",
   "execution_count": 1,
   "metadata": {},
   "outputs": [],
   "source": [
    "#找到anaconda下python.exe的路径D:\\Anaconda3\\python.exe\n",
    "#跳转至easygui的解压路径\n",
    "#执行语句 D:\\Anaconda3\\python.exe setup.py install\n",
    "import easygui"
   ]
  },
  {
   "cell_type": "code",
   "execution_count": 2,
   "metadata": {},
   "outputs": [
    {
     "data": {
      "text/plain": [
       "'OK'"
      ]
     },
     "execution_count": 2,
     "metadata": {},
     "output_type": "execute_result"
    }
   ],
   "source": [
    "easygui.msgbox(\"a\")"
   ]
  },
  {
   "cell_type": "markdown",
   "metadata": {},
   "source": [
    "### 使用easygui"
   ]
  },
  {
   "cell_type": "code",
   "execution_count": 6,
   "metadata": {},
   "outputs": [
    {
     "name": "stdout",
     "output_type": "stream",
     "text": [
      "OK\n"
     ]
    },
    {
     "ename": "SystemExit",
     "evalue": "0",
     "output_type": "error",
     "traceback": [
      "An exception has occurred, use %tb to see the full traceback.\n",
      "\u001b[0;31mSystemExit\u001b[0m\u001b[0;31m:\u001b[0m 0\n"
     ]
    },
    {
     "name": "stderr",
     "output_type": "stream",
     "text": [
      "D:\\Anaconda3\\lib\\site-packages\\IPython\\core\\interactiveshell.py:2889: UserWarning: To exit: use 'exit', 'quit', or Ctrl-D.\n",
      "  warn(\"To exit: use 'exit', 'quit', or Ctrl-D.\", stacklevel=1)\n"
     ]
    }
   ],
   "source": [
    "import easygui as g\n",
    "import sys\n",
    "while 1:\n",
    "    g.msgbox(\"welcome\")\n",
    "    msg=\"what do you want to learn?\"\n",
    "    title=\"answer\"\n",
    "    choices=[\"a\",\"b\",\"c\",\"d\"]\n",
    "    choice=g.choicebox(msg,title,choices)\n",
    "    #g.msgbox(\"your choice:\"+str(choice),\"结果\")\n",
    "    #第二个参数为msgbox标题\n",
    "    g.msgbox(\"your choice:\",str(choice))\n",
    "    msg=\"want to continue\"\n",
    "    title=\"please choose\"\n",
    "    if g.ccbox(msg,title):\n",
    "        pass\n",
    "    else:\n",
    "        sys.exit(0)"
   ]
  },
  {
   "cell_type": "markdown",
   "metadata": {},
   "source": [
    "### 修改默认配置"
   ]
  },
  {
   "cell_type": "code",
   "execution_count": null,
   "metadata": {},
   "outputs": [],
   "source": [
    "#见P104"
   ]
  }
 ],
 "metadata": {
  "kernelspec": {
   "display_name": "Python 3",
   "language": "python",
   "name": "python3"
  },
  "language_info": {
   "codemirror_mode": {
    "name": "ipython",
    "version": 3
   },
   "file_extension": ".py",
   "mimetype": "text/x-python",
   "name": "python",
   "nbconvert_exporter": "python",
   "pygments_lexer": "ipython3",
   "version": "3.6.8"
  }
 },
 "nbformat": 4,
 "nbformat_minor": 2
}
