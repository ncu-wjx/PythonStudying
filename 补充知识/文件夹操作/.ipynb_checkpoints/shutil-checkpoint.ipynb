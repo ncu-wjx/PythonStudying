{
 "cells": [
  {
   "cell_type": "code",
   "execution_count": 8,
   "metadata": {},
   "outputs": [
    {
     "name": "stdout",
     "output_type": "stream",
     "text": [
      "文件夹路径存在，文件已被删除\n"
     ]
    }
   ],
   "source": [
    "import shutil,os\n",
    "path='test'\n",
    "if os.path.exists(path):\n",
    "    shutil.rmtree('test')\n",
    "    print('文件夹路径存在，文件夹已被删除')\n",
    "else:\n",
    "    os.mkdir(path)\n",
    "    print('文件夹路径不存在，已新建一个文件夹')"
   ]
  },
  {
   "cell_type": "code",
   "execution_count": null,
   "metadata": {},
   "outputs": [],
   "source": []
  }
 ],
 "metadata": {
  "kernelspec": {
   "display_name": "Python 3",
   "language": "python",
   "name": "python3"
  },
  "language_info": {
   "codemirror_mode": {
    "name": "ipython",
    "version": 3
   },
   "file_extension": ".py",
   "mimetype": "text/x-python",
   "name": "python",
   "nbconvert_exporter": "python",
   "pygments_lexer": "ipython3",
   "version": "3.6.8"
  }
 },
 "nbformat": 4,
 "nbformat_minor": 2
}
