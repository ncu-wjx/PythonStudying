{
 "cells": [
  {
   "cell_type": "markdown",
   "metadata": {},
   "source": [
    "### URLError"
   ]
  },
  {
   "cell_type": "code",
   "execution_count": 4,
   "metadata": {},
   "outputs": [
    {
     "name": "stdout",
     "output_type": "stream",
     "text": [
      "[Errno 11001] getaddrinfo failed\n"
     ]
    }
   ],
   "source": [
    "import urllib.request\n",
    "req=urllib.request.Request('http://jiangxi-fishc.com')\n",
    "try:\n",
    "    urllib.request.urlopen(req)\n",
    "except urllib.error.URLError as e:\n",
    "    print(e.reason)"
   ]
  },
  {
   "cell_type": "code",
   "execution_count": 10,
   "metadata": {},
   "outputs": [
    {
     "name": "stdout",
     "output_type": "stream",
     "text": [
      "404\n",
      "b'<html>\\r\\n<head><title>404 Not Found</title></head>\\r\\n<body bgcolor=\"white\">\\r\\n<center><h1>404 Not Found</h1></center>\\r\\n<hr><center>nginx</center>\\r\\n</body>\\r\\n</html>\\r\\n'\n"
     ]
    }
   ],
   "source": [
    "import urllib.request\n",
    "req=urllib.request.Request('http://www.fishc.com/a.html')\n",
    "try:\n",
    "    urllib.request.urlopen(req)\n",
    "except urllib.error.HTTPError as f:\n",
    "    print(f.code)\n",
    "    print(f.read())"
   ]
  },
  {
   "cell_type": "markdown",
   "metadata": {},
   "source": [
    "### 处理异常"
   ]
  },
  {
   "cell_type": "code",
   "execution_count": null,
   "metadata": {},
   "outputs": [],
   "source": [
    "from urllib.request import Request,urlopen\n",
    "from urllib.error import URLError\n",
    "req=Request('http://www.fishc.com/a.html')\n",
    "try:\n",
    "    response=urlopen(req)\n",
    "except URLError as f:\n",
    "    if hasattr(e,'reason'):\n",
    "        print('We failed to reach a server')\n",
    "        print('Reason:',e.reason)\n",
    "    elif hasattr(e,'code'):\n",
    "        print('The server couldn\\'t fullfill the request')\n",
    "        print('Error code:',e.code)\n",
    "else:\n",
    "    ……"
   ]
  }
 ],
 "metadata": {
  "kernelspec": {
   "display_name": "Python 3",
   "language": "python",
   "name": "python3"
  },
  "language_info": {
   "codemirror_mode": {
    "name": "ipython",
    "version": 3
   },
   "file_extension": ".py",
   "mimetype": "text/x-python",
   "name": "python",
   "nbconvert_exporter": "python",
   "pygments_lexer": "ipython3",
   "version": "3.6.8"
  }
 },
 "nbformat": 4,
 "nbformat_minor": 2
}
