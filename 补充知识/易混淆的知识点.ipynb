{
 "cells": [
  {
   "cell_type": "markdown",
   "metadata": {},
   "source": [
    "<font color=#ff0000 size=60>第三章</font>"
   ]
  },
  {
   "cell_type": "markdown",
   "metadata": {},
   "source": [
    "### 原始字符串 P10"
   ]
  },
  {
   "cell_type": "code",
   "execution_count": 5,
   "metadata": {},
   "outputs": [
    {
     "data": {
      "text/plain": [
       "'C:\\\\now'"
      ]
     },
     "execution_count": 5,
     "metadata": {},
     "output_type": "execute_result"
    }
   ],
   "source": [
    "string = r'C:\\now'\n",
    "string"
   ]
  },
  {
   "cell_type": "code",
   "execution_count": 6,
   "metadata": {},
   "outputs": [
    {
     "name": "stdout",
     "output_type": "stream",
     "text": [
      "C:\\now\n"
     ]
    }
   ],
   "source": [
    "print(string)"
   ]
  },
  {
   "cell_type": "code",
   "execution_count": 7,
   "metadata": {},
   "outputs": [
    {
     "name": "stdout",
     "output_type": "stream",
     "text": [
      "\\n\\n\\n\\n\\n\\n\\\n"
     ]
    }
   ],
   "source": [
    "#思考题：如何在字符串结尾加反斜杠？\n",
    "#解决方法：对转义进行反转义，然后删除最后一个反义字符\n",
    "print(r\"\\n\\n\\n\\n\\n\\n\\\\\"[:-1])"
   ]
  },
  {
   "cell_type": "markdown",
   "metadata": {},
   "source": [
    "### 多行注释 P11"
   ]
  },
  {
   "cell_type": "code",
   "execution_count": 8,
   "metadata": {},
   "outputs": [],
   "source": [
    "\"\"\"\n",
    "这是注释\n",
    "\"\"\"\n",
    "def function():\n",
    "    print('function')"
   ]
  },
  {
   "cell_type": "code",
   "execution_count": 9,
   "metadata": {},
   "outputs": [
    {
     "data": {
      "text/plain": [
       "'\\n这是注释\\n'"
      ]
     },
     "execution_count": 9,
     "metadata": {},
     "output_type": "execute_result"
    }
   ],
   "source": [
    "#想要注释不输出，代码必须添加除注释代码外的其他内容\n",
    "'''\n",
    "这是注释\n",
    "'''"
   ]
  },
  {
   "cell_type": "markdown",
   "metadata": {},
   "source": [
    "<font color=#ff0000 size=60>第四章</font>"
   ]
  },
  {
   "cell_type": "markdown",
   "metadata": {},
   "source": [
    "### assert断言"
   ]
  },
  {
   "cell_type": "code",
   "execution_count": 11,
   "metadata": {},
   "outputs": [],
   "source": [
    "#作用：用于在程序中设置断点，确保程序中某个条件为真时程序才能正确运行"
   ]
  },
  {
   "cell_type": "markdown",
   "metadata": {},
   "source": [
    "<font color=#ff0000 size=60>第五章</font>"
   ]
  },
  {
   "cell_type": "code",
   "execution_count": 12,
   "metadata": {},
   "outputs": [],
   "source": [
    "#列表等的拷贝方法 P36 \n",
    "#注意：列表拷贝需要采用分片的方式，为列表指定另一个名字只是向列表增加一个新的标签"
   ]
  },
  {
   "cell_type": "markdown",
   "metadata": {},
   "source": [
    "<font color=#ff0000 size=60>第六章</font>"
   ]
  },
  {
   "cell_type": "markdown",
   "metadata": {},
   "source": [
    "### 汉诺塔hanoi"
   ]
  },
  {
   "cell_type": "code",
   "execution_count": 13,
   "metadata": {},
   "outputs": [
    {
     "name": "stdout",
     "output_type": "stream",
     "text": [
      "X --> Z\n",
      "X --> Y\n",
      "Z --> Y\n",
      "X --> Z\n",
      "Y --> X\n",
      "Y --> Z\n",
      "X --> Z\n"
     ]
    }
   ],
   "source": [
    "'''汉诺塔步骤拆分：\n",
    "1.将前n-1个借助Z从X移到Y,写成(n-1,x,z,y),z是借助的轴\n",
    "2.将第n个从X移到Z,写成(x,'-->',z)\n",
    "3.将前n-1个借助X从Y移到Z,写成(n-1,y,x,z),x是借助的轴\n",
    "'''\n",
    "def hanoi(n,x,y,z):\n",
    "    if n == 1:\n",
    "        print(x,'-->',z)\n",
    "    else:\n",
    "        hanoi(n-1,x,z,y)\n",
    "        print(x,'-->',z)\n",
    "        hanoi(n-1,y,x,z)\n",
    "hanoi(3,'X','Y','Z')"
   ]
  },
  {
   "cell_type": "markdown",
   "metadata": {},
   "source": [
    "### 收集参数 P54"
   ]
  },
  {
   "cell_type": "code",
   "execution_count": 14,
   "metadata": {},
   "outputs": [
    {
     "name": "stdout",
     "output_type": "stream",
     "text": [
      "参数个数:1\n"
     ]
    }
   ],
   "source": [
    "def test(*param):\n",
    "    print('参数个数:%d'%len(param))\n",
    "test('Fishc')"
   ]
  },
  {
   "cell_type": "code",
   "execution_count": 15,
   "metadata": {},
   "outputs": [
    {
     "name": "stdout",
     "output_type": "stream",
     "text": [
      "参数为: ('Fishc', 'jiangxi')\n",
      "位置参数: 8\n"
     ]
    }
   ],
   "source": [
    "#如果还需指定其他参数\n",
    "def test(*param,extra):\n",
    "    print('参数为:',(param))\n",
    "    print('位置参数:',extra)\n",
    "test('Fishc','jiangxi',extra=8)"
   ]
  },
  {
   "cell_type": "code",
   "execution_count": 17,
   "metadata": {},
   "outputs": [
    {
     "ename": "IndexError",
     "evalue": "tuple index out of range",
     "output_type": "error",
     "traceback": [
      "\u001b[0;31m---------------------------------------------------------------------------\u001b[0m",
      "\u001b[0;31mIndexError\u001b[0m                                Traceback (most recent call last)",
      "\u001b[0;32m<ipython-input-17-65a418eea1fb>\u001b[0m in \u001b[0;36m<module>\u001b[0;34m()\u001b[0m\n\u001b[1;32m      4\u001b[0m     \u001b[0mprint\u001b[0m\u001b[1;33m(\u001b[0m\u001b[1;34m'参数为:'\u001b[0m\u001b[1;33m,\u001b[0m\u001b[1;33m(\u001b[0m\u001b[0mparam\u001b[0m\u001b[1;33m[\u001b[0m\u001b[1;36m1\u001b[0m\u001b[1;33m]\u001b[0m\u001b[1;33m)\u001b[0m\u001b[1;33m)\u001b[0m\u001b[1;33m\u001b[0m\u001b[1;33m\u001b[0m\u001b[0m\n\u001b[1;32m      5\u001b[0m \u001b[0ma\u001b[0m\u001b[1;33m=\u001b[0m\u001b[1;33m[\u001b[0m\u001b[1;36m1\u001b[0m\u001b[1;33m,\u001b[0m\u001b[1;36m2\u001b[0m\u001b[1;33m,\u001b[0m\u001b[1;36m3\u001b[0m\u001b[1;33m,\u001b[0m\u001b[1;36m4\u001b[0m\u001b[1;33m,\u001b[0m\u001b[1;36m5\u001b[0m\u001b[1;33m,\u001b[0m\u001b[1;36m6\u001b[0m\u001b[1;33m]\u001b[0m\u001b[1;33m\u001b[0m\u001b[1;33m\u001b[0m\u001b[0m\n\u001b[0;32m----> 6\u001b[0;31m \u001b[0mtest\u001b[0m\u001b[1;33m(\u001b[0m\u001b[0ma\u001b[0m\u001b[1;33m)\u001b[0m\u001b[1;33m\u001b[0m\u001b[1;33m\u001b[0m\u001b[0m\n\u001b[0m",
      "\u001b[0;32m<ipython-input-17-65a418eea1fb>\u001b[0m in \u001b[0;36mtest\u001b[0;34m(*param)\u001b[0m\n\u001b[1;32m      2\u001b[0m \u001b[1;31m#以下代码不能运行\u001b[0m\u001b[1;33m\u001b[0m\u001b[1;33m\u001b[0m\u001b[1;33m\u001b[0m\u001b[0m\n\u001b[1;32m      3\u001b[0m \u001b[1;32mdef\u001b[0m \u001b[0mtest\u001b[0m\u001b[1;33m(\u001b[0m\u001b[1;33m*\u001b[0m\u001b[0mparam\u001b[0m\u001b[1;33m)\u001b[0m\u001b[1;33m:\u001b[0m\u001b[1;33m\u001b[0m\u001b[1;33m\u001b[0m\u001b[0m\n\u001b[0;32m----> 4\u001b[0;31m     \u001b[0mprint\u001b[0m\u001b[1;33m(\u001b[0m\u001b[1;34m'参数为:'\u001b[0m\u001b[1;33m,\u001b[0m\u001b[1;33m(\u001b[0m\u001b[0mparam\u001b[0m\u001b[1;33m[\u001b[0m\u001b[1;36m1\u001b[0m\u001b[1;33m]\u001b[0m\u001b[1;33m)\u001b[0m\u001b[1;33m)\u001b[0m\u001b[1;33m\u001b[0m\u001b[1;33m\u001b[0m\u001b[0m\n\u001b[0m\u001b[1;32m      5\u001b[0m \u001b[0ma\u001b[0m\u001b[1;33m=\u001b[0m\u001b[1;33m[\u001b[0m\u001b[1;36m1\u001b[0m\u001b[1;33m,\u001b[0m\u001b[1;36m2\u001b[0m\u001b[1;33m,\u001b[0m\u001b[1;36m3\u001b[0m\u001b[1;33m,\u001b[0m\u001b[1;36m4\u001b[0m\u001b[1;33m,\u001b[0m\u001b[1;36m5\u001b[0m\u001b[1;33m,\u001b[0m\u001b[1;36m6\u001b[0m\u001b[1;33m]\u001b[0m\u001b[1;33m\u001b[0m\u001b[1;33m\u001b[0m\u001b[0m\n\u001b[1;32m      6\u001b[0m \u001b[0mtest\u001b[0m\u001b[1;33m(\u001b[0m\u001b[0ma\u001b[0m\u001b[1;33m)\u001b[0m\u001b[1;33m\u001b[0m\u001b[1;33m\u001b[0m\u001b[0m\n",
      "\u001b[0;31mIndexError\u001b[0m: tuple index out of range"
     ]
    }
   ],
   "source": [
    "# *用于解包\n",
    "#以下代码不能运行\n",
    "def test(*param):\n",
    "    print('参数为:',(param[1]))\n",
    "a=[1,2,3,4,5,6]\n",
    "test(a)"
   ]
  },
  {
   "cell_type": "code",
   "execution_count": 18,
   "metadata": {},
   "outputs": [
    {
     "name": "stdout",
     "output_type": "stream",
     "text": [
      "参数为: 2\n"
     ]
    }
   ],
   "source": [
    "test(*a)"
   ]
  },
  {
   "cell_type": "code",
   "execution_count": 19,
   "metadata": {},
   "outputs": [
    {
     "name": "stdout",
     "output_type": "stream",
     "text": [
      "有3个参数\n",
      "分别为: {'a': 1, 'b': 2, 'c': 3}\n"
     ]
    }
   ],
   "source": [
    "#收集参数的另外一种打包形式：字典\n",
    "def test(**params):\n",
    "    print('有%d个参数'%len(params))\n",
    "    print('分别为:',params)\n",
    "test(a=1,b=2,c=3)"
   ]
  },
  {
   "cell_type": "code",
   "execution_count": 20,
   "metadata": {},
   "outputs": [
    {
     "ename": "TypeError",
     "evalue": "test() keywords must be strings",
     "output_type": "error",
     "traceback": [
      "\u001b[0;31m---------------------------------------------------------------------------\u001b[0m",
      "\u001b[0;31mTypeError\u001b[0m                                 Traceback (most recent call last)",
      "\u001b[0;32m<ipython-input-20-62519078d388>\u001b[0m in \u001b[0;36m<module>\u001b[0;34m()\u001b[0m\n\u001b[1;32m      2\u001b[0m \u001b[0ma\u001b[0m\u001b[1;33m=\u001b[0m\u001b[1;33m{\u001b[0m\u001b[1;36m1\u001b[0m\u001b[1;33m:\u001b[0m\u001b[1;34m'one'\u001b[0m\u001b[1;33m,\u001b[0m\u001b[1;36m2\u001b[0m\u001b[1;33m:\u001b[0m\u001b[1;34m'two'\u001b[0m\u001b[1;33m}\u001b[0m\u001b[1;33m\u001b[0m\u001b[1;33m\u001b[0m\u001b[0m\n\u001b[1;32m      3\u001b[0m \u001b[1;31m#a={'one':1,'two':2}\u001b[0m\u001b[1;33m\u001b[0m\u001b[1;33m\u001b[0m\u001b[1;33m\u001b[0m\u001b[0m\n\u001b[0;32m----> 4\u001b[0;31m \u001b[0mtest\u001b[0m\u001b[1;33m(\u001b[0m\u001b[1;33m**\u001b[0m\u001b[0ma\u001b[0m\u001b[1;33m)\u001b[0m\u001b[1;33m\u001b[0m\u001b[1;33m\u001b[0m\u001b[0m\n\u001b[0m\u001b[1;32m      5\u001b[0m \u001b[1;31m#字段更新的键必须是字符串类型，出错的地方是用int类型数字作为键\u001b[0m\u001b[1;33m\u001b[0m\u001b[1;33m\u001b[0m\u001b[1;33m\u001b[0m\u001b[0m\n",
      "\u001b[0;31mTypeError\u001b[0m: test() keywords must be strings"
     ]
    }
   ],
   "source": [
    "#字典的解包形式\n",
    "a={1:'one',2:'two'}\n",
    "#a={'one':1,'two':2}\n",
    "test(**a)\n",
    "#字段更新的键必须是字符串类型，出错的地方是用int类型数字作为键"
   ]
  },
  {
   "cell_type": "code",
   "execution_count": 21,
   "metadata": {},
   "outputs": [
    {
     "name": "stdout",
     "output_type": "stream",
     "text": [
      "有2个参数\n",
      "分别为: {'one': 1, 'two': 2}\n"
     ]
    }
   ],
   "source": [
    "#a={1:'one',2:'two'}\n",
    "a={'one':1,'two':2}\n",
    "test(**a)"
   ]
  },
  {
   "cell_type": "markdown",
   "metadata": {},
   "source": [
    "### 修改全局变量值 P59"
   ]
  },
  {
   "cell_type": "code",
   "execution_count": 22,
   "metadata": {},
   "outputs": [],
   "source": [
    "#在函数中修改全局变量的值，引入global关键词\n",
    "count=5\n",
    "def myFun():\n",
    "    global count\n",
    "    count=10\n",
    "    print(count)"
   ]
  },
  {
   "cell_type": "code",
   "execution_count": 23,
   "metadata": {},
   "outputs": [
    {
     "name": "stdout",
     "output_type": "stream",
     "text": [
      "10\n"
     ]
    }
   ],
   "source": [
    "myFun()"
   ]
  },
  {
   "cell_type": "code",
   "execution_count": 24,
   "metadata": {},
   "outputs": [
    {
     "data": {
      "text/plain": [
       "10"
      ]
     },
     "execution_count": 24,
     "metadata": {},
     "output_type": "execute_result"
    }
   ],
   "source": [
    "count"
   ]
  },
  {
   "cell_type": "markdown",
   "metadata": {},
   "source": [
    "### 闭包Closure P60"
   ]
  },
  {
   "cell_type": "code",
   "execution_count": 25,
   "metadata": {},
   "outputs": [
    {
     "data": {
      "text/plain": [
       "40"
      ]
     },
     "execution_count": 25,
     "metadata": {},
     "output_type": "execute_result"
    }
   ],
   "source": [
    "'''\n",
    "定义：如果在一个内部函数中,对在外部作用域但不是全局作用域的变量进行引用，那么内部函数被认为是闭包\n",
    "'''\n",
    "def funX(x):\n",
    "    def funY(y):\n",
    "        return x*y\n",
    "    return funY\n",
    "funX(8)(5)\n",
    "#这里funY被视为闭包"
   ]
  },
  {
   "cell_type": "code",
   "execution_count": 26,
   "metadata": {},
   "outputs": [
    {
     "ename": "NameError",
     "evalue": "name 'funY' is not defined",
     "output_type": "error",
     "traceback": [
      "\u001b[0;31m---------------------------------------------------------------------------\u001b[0m",
      "\u001b[0;31mNameError\u001b[0m                                 Traceback (most recent call last)",
      "\u001b[0;32m<ipython-input-26-af0fe59a8d9e>\u001b[0m in \u001b[0;36m<module>\u001b[0;34m()\u001b[0m\n\u001b[1;32m      1\u001b[0m \u001b[1;31m#不能再外部函数以外的地方对内部函数进行调用\u001b[0m\u001b[1;33m\u001b[0m\u001b[1;33m\u001b[0m\u001b[1;33m\u001b[0m\u001b[0m\n\u001b[0;32m----> 2\u001b[0;31m \u001b[0mfunY\u001b[0m\u001b[1;33m(\u001b[0m\u001b[1;36m5\u001b[0m\u001b[1;33m)\u001b[0m\u001b[1;33m\u001b[0m\u001b[1;33m\u001b[0m\u001b[0m\n\u001b[0m",
      "\u001b[0;31mNameError\u001b[0m: name 'funY' is not defined"
     ]
    }
   ],
   "source": [
    "#不能再外部函数以外的地方对内部函数进行调用\n",
    "funY(5)"
   ]
  },
  {
   "cell_type": "code",
   "execution_count": 27,
   "metadata": {},
   "outputs": [
    {
     "ename": "UnboundLocalError",
     "evalue": "local variable 'x' referenced before assignment",
     "output_type": "error",
     "traceback": [
      "\u001b[0;31m---------------------------------------------------------------------------\u001b[0m",
      "\u001b[0;31mUnboundLocalError\u001b[0m                         Traceback (most recent call last)",
      "\u001b[0;32m<ipython-input-27-80ef68815e38>\u001b[0m in \u001b[0;36m<module>\u001b[0;34m()\u001b[0m\n\u001b[1;32m      6\u001b[0m         \u001b[1;32mreturn\u001b[0m \u001b[0mx\u001b[0m\u001b[1;33m\u001b[0m\u001b[1;33m\u001b[0m\u001b[0m\n\u001b[1;32m      7\u001b[0m     \u001b[1;32mreturn\u001b[0m \u001b[0mfunY\u001b[0m\u001b[1;33m\u001b[0m\u001b[1;33m\u001b[0m\u001b[0m\n\u001b[0;32m----> 8\u001b[0;31m \u001b[0mfunX\u001b[0m\u001b[1;33m(\u001b[0m\u001b[1;33m)\u001b[0m\u001b[1;33m(\u001b[0m\u001b[1;33m)\u001b[0m\u001b[1;33m\u001b[0m\u001b[1;33m\u001b[0m\u001b[0m\n\u001b[0m",
      "\u001b[0;32m<ipython-input-27-80ef68815e38>\u001b[0m in \u001b[0;36mfunY\u001b[0;34m()\u001b[0m\n\u001b[1;32m      3\u001b[0m     \u001b[0mx\u001b[0m\u001b[1;33m=\u001b[0m\u001b[1;36m5\u001b[0m\u001b[1;33m\u001b[0m\u001b[1;33m\u001b[0m\u001b[0m\n\u001b[1;32m      4\u001b[0m     \u001b[1;32mdef\u001b[0m \u001b[0mfunY\u001b[0m\u001b[1;33m(\u001b[0m\u001b[1;33m)\u001b[0m\u001b[1;33m:\u001b[0m\u001b[1;33m\u001b[0m\u001b[1;33m\u001b[0m\u001b[0m\n\u001b[0;32m----> 5\u001b[0;31m         \u001b[0mx\u001b[0m\u001b[1;33m*=\u001b[0m\u001b[0mx\u001b[0m\u001b[1;33m\u001b[0m\u001b[1;33m\u001b[0m\u001b[0m\n\u001b[0m\u001b[1;32m      6\u001b[0m         \u001b[1;32mreturn\u001b[0m \u001b[0mx\u001b[0m\u001b[1;33m\u001b[0m\u001b[1;33m\u001b[0m\u001b[0m\n\u001b[1;32m      7\u001b[0m     \u001b[1;32mreturn\u001b[0m \u001b[0mfunY\u001b[0m\u001b[1;33m\u001b[0m\u001b[1;33m\u001b[0m\u001b[0m\n",
      "\u001b[0;31mUnboundLocalError\u001b[0m: local variable 'x' referenced before assignment"
     ]
    }
   ],
   "source": [
    "#不能修改外部函数中局部变量的值\n",
    "def funX():\n",
    "    x=5\n",
    "    def funY():\n",
    "        x*=x\n",
    "        return x\n",
    "    return funY\n",
    "funX()()"
   ]
  },
  {
   "cell_type": "code",
   "execution_count": 28,
   "metadata": {},
   "outputs": [
    {
     "data": {
      "text/plain": [
       "25"
      ]
     },
     "execution_count": 28,
     "metadata": {},
     "output_type": "execute_result"
    }
   ],
   "source": [
    "#解决方法一,利用容器类型\n",
    "def funX():\n",
    "    x=[5,10,15]\n",
    "    def funY():\n",
    "        x[0]*=x[0]\n",
    "        return x[0]\n",
    "    return funY\n",
    "funX()()"
   ]
  },
  {
   "cell_type": "code",
   "execution_count": 29,
   "metadata": {},
   "outputs": [
    {
     "data": {
      "text/plain": [
       "36"
      ]
     },
     "execution_count": 29,
     "metadata": {},
     "output_type": "execute_result"
    }
   ],
   "source": [
    "#解决方法二，利用nonlocal关键字\n",
    "def funX():\n",
    "    x=6\n",
    "    def funY():\n",
    "        nonlocal x\n",
    "        x*=x\n",
    "        return x\n",
    "    return funY\n",
    "funX()()"
   ]
  },
  {
   "cell_type": "markdown",
   "metadata": {},
   "source": [
    "### 筛选奇数的过滤器 P63"
   ]
  },
  {
   "cell_type": "code",
   "execution_count": 30,
   "metadata": {},
   "outputs": [
    {
     "data": {
      "text/plain": [
       "[1, 3, 5, 7, 9]"
      ]
     },
     "execution_count": 30,
     "metadata": {},
     "output_type": "execute_result"
    }
   ],
   "source": [
    "list(filter(lambda x:x%2,range(10)))"
   ]
  },
  {
   "cell_type": "markdown",
   "metadata": {},
   "source": [
    "<font color=#ff0000 size=60>第七章</font>"
   ]
  },
  {
   "cell_type": "code",
   "execution_count": 31,
   "metadata": {},
   "outputs": [
    {
     "data": {
      "text/plain": [
       "{1: 'four', 2: 'two'}"
      ]
     },
     "execution_count": 31,
     "metadata": {},
     "output_type": "execute_result"
    }
   ],
   "source": [
    "#利用copy()方法拷贝字典\n",
    "a={1:'one',2:'two'}\n",
    "b=a.copy()\n",
    "a[1]=\"four\"\n",
    "a"
   ]
  },
  {
   "cell_type": "code",
   "execution_count": 32,
   "metadata": {},
   "outputs": [
    {
     "data": {
      "text/plain": [
       "{1: 'one', 2: 'two'}"
      ]
     },
     "execution_count": 32,
     "metadata": {},
     "output_type": "execute_result"
    }
   ],
   "source": [
    "b"
   ]
  },
  {
   "cell_type": "markdown",
   "metadata": {},
   "source": [
    "### 利用set()除去列表中重复的元素 P78"
   ]
  },
  {
   "cell_type": "code",
   "execution_count": 33,
   "metadata": {},
   "outputs": [
    {
     "data": {
      "text/plain": [
       "[1, 2, 3, 4, 5, 6, 7]"
      ]
     },
     "execution_count": 33,
     "metadata": {},
     "output_type": "execute_result"
    }
   ],
   "source": [
    "list1=[1,2,3,4,5,6,7,4,5,6,3,4,5,6,3]\n",
    "list2=list(set(list1))[:]\n",
    "list2"
   ]
  },
  {
   "cell_type": "code",
   "execution_count": 34,
   "metadata": {},
   "outputs": [
    {
     "name": "stdout",
     "output_type": "stream",
     "text": [
      "[1, 2, 3, 4, 5, 6, 7]\n",
      "[2, 3, 4, 5, 6, 7, 4, 5, 6, 3, 4, 5, 6, 3]\n",
      "[1, 2, 3, 4, 5, 6, 7]\n"
     ]
    }
   ],
   "source": [
    "#这样也可以\n",
    "list1=[1,2,3,4,5,6,7,4,5,6,3,4,5,6,3]\n",
    "list2=list(set(list1))\n",
    "print(list2)\n",
    "list1.remove(1)\n",
    "print(list1)\n",
    "print(list2)"
   ]
  },
  {
   "cell_type": "markdown",
   "metadata": {},
   "source": [
    "<font color=#ff0000 size=60>第八章</font>"
   ]
  },
  {
   "cell_type": "markdown",
   "metadata": {},
   "source": [
    "### 一个任务 P83"
   ]
  },
  {
   "cell_type": "code",
   "execution_count": 35,
   "metadata": {},
   "outputs": [],
   "source": [
    "#具体代码见第八章文件夹"
   ]
  },
  {
   "cell_type": "markdown",
   "metadata": {},
   "source": [
    "<font color=#ff0000 size=60>第十四章</font>"
   ]
  },
  {
   "cell_type": "markdown",
   "metadata": {},
   "source": [
    "### filename=each.split(\"/\")[-1]的作用 P188"
   ]
  },
  {
   "cell_type": "code",
   "execution_count": 37,
   "metadata": {},
   "outputs": [
    {
     "data": {
      "text/plain": [
       "['https:', '', 'imgsa.baidu.com', 'forum', 'w%3D580', 'xxx.jpg']"
      ]
     },
     "execution_count": 37,
     "metadata": {},
     "output_type": "execute_result"
    }
   ],
   "source": [
    "#文章见https://www.jianshu.com/p/8e7e6b5d9243\n",
    "#这里的each是一个类似：https://imgsa.baidu.com/forum/w%3D580/sign=xxx.jpg的图片网址\n",
    "#filename就是从最后一个'/'开始到后面的文件名\n",
    "string='https://imgsa.baidu.com/forum/w%3D580/xxx.jpg'\n",
    "string.split('/')"
   ]
  },
  {
   "cell_type": "markdown",
   "metadata": {},
   "source": [
    "<font color=#ff0000 size=60>第十一章</font>"
   ]
  },
  {
   "cell_type": "markdown",
   "metadata": {},
   "source": [
    "### 公有与私有 P108"
   ]
  },
  {
   "cell_type": "code",
   "execution_count": 39,
   "metadata": {},
   "outputs": [
    {
     "data": {
      "text/plain": [
       "'小甲鱼'"
      ]
     },
     "execution_count": 39,
     "metadata": {},
     "output_type": "execute_result"
    }
   ],
   "source": [
    "class Person:\n",
    "    name='小甲鱼'\n",
    "p=Person()\n",
    "p.name"
   ]
  },
  {
   "cell_type": "code",
   "execution_count": 40,
   "metadata": {},
   "outputs": [
    {
     "ename": "AttributeError",
     "evalue": "'Person' object has no attribute 'name'",
     "output_type": "error",
     "traceback": [
      "\u001b[0;31m---------------------------------------------------------------------------\u001b[0m",
      "\u001b[0;31mAttributeError\u001b[0m                            Traceback (most recent call last)",
      "\u001b[0;32m<ipython-input-40-b37dfc4c1a5f>\u001b[0m in \u001b[0;36m<module>\u001b[0;34m()\u001b[0m\n\u001b[1;32m      3\u001b[0m     \u001b[0m__name\u001b[0m\u001b[1;33m=\u001b[0m\u001b[1;34m'小甲鱼'\u001b[0m\u001b[1;33m\u001b[0m\u001b[1;33m\u001b[0m\u001b[0m\n\u001b[1;32m      4\u001b[0m \u001b[0mp\u001b[0m\u001b[1;33m=\u001b[0m\u001b[0mPerson\u001b[0m\u001b[1;33m(\u001b[0m\u001b[1;33m)\u001b[0m\u001b[1;33m\u001b[0m\u001b[1;33m\u001b[0m\u001b[0m\n\u001b[0;32m----> 5\u001b[0;31m \u001b[0mp\u001b[0m\u001b[1;33m.\u001b[0m\u001b[0mname\u001b[0m\u001b[1;33m\u001b[0m\u001b[1;33m\u001b[0m\u001b[0m\n\u001b[0m",
      "\u001b[0;31mAttributeError\u001b[0m: 'Person' object has no attribute 'name'"
     ]
    }
   ],
   "source": [
    "#在变量名和函数名前加__,变量名和函数即变成私有属性，不可访问\n",
    "class Person:\n",
    "    __name='小甲鱼'\n",
    "p=Person()\n",
    "p.name"
   ]
  },
  {
   "cell_type": "code",
   "execution_count": 41,
   "metadata": {},
   "outputs": [
    {
     "data": {
      "text/plain": [
       "'小甲鱼'"
      ]
     },
     "execution_count": 41,
     "metadata": {},
     "output_type": "execute_result"
    }
   ],
   "source": [
    "#获取__name值\n",
    "class Person:\n",
    "    def __init__(self,name):\n",
    "        self.__name=name\n",
    "    def getName(self):\n",
    "        return self.__name\n",
    "p=Person('小甲鱼')\n",
    "p.getName()"
   ]
  },
  {
   "cell_type": "code",
   "execution_count": 42,
   "metadata": {},
   "outputs": [
    {
     "data": {
      "text/plain": [
       "'小甲鱼'"
      ]
     },
     "execution_count": 42,
     "metadata": {},
     "output_type": "execute_result"
    }
   ],
   "source": [
    "#也可以在外部使用'_类名__变量名'访问双下划綫开头的私有变量\n",
    "#Python的类没有权限控制，所有变量都可以被外部访问\n",
    "p._Person__name"
   ]
  },
  {
   "cell_type": "markdown",
   "metadata": {},
   "source": [
    "### 继承 P109"
   ]
  },
  {
   "cell_type": "code",
   "execution_count": 43,
   "metadata": {},
   "outputs": [],
   "source": [
    "#解决继承问题中存在问题的两种方法"
   ]
  },
  {
   "cell_type": "markdown",
   "metadata": {},
   "source": [
    "##### 解决方法一：调用未绑定的父类方法"
   ]
  },
  {
   "cell_type": "code",
   "execution_count": 44,
   "metadata": {},
   "outputs": [],
   "source": [
    "import random as r\n",
    "class Fish:\n",
    "    def __init__(self):\n",
    "        self.x=r.randint(0,10)\n",
    "        self.y=r.randint(0,10)\n",
    "    def move(self):\n",
    "        self.x-=1\n",
    "        print(\"location:\",self.x,self.y)\n",
    "class GoldFish(Fish):\n",
    "    pass\n",
    "class Shark(Fish):\n",
    "    def __init__(self):\n",
    "        Fish.__init__(self)\n",
    "        self.hungry=True\n",
    "    def eat(self):\n",
    "        if self.hungry:\n",
    "            print(\"eat\")\n",
    "            self.hungry=False\n",
    "        else:\n",
    "            print(\"full\")"
   ]
  },
  {
   "cell_type": "code",
   "execution_count": 45,
   "metadata": {},
   "outputs": [
    {
     "name": "stdout",
     "output_type": "stream",
     "text": [
      "location: 7 10\n"
     ]
    }
   ],
   "source": [
    "shark=Shark()\n",
    "shark.move()"
   ]
  },
  {
   "cell_type": "markdown",
   "metadata": {},
   "source": [
    "##### 解决方法二：使用super函数"
   ]
  },
  {
   "cell_type": "code",
   "execution_count": 46,
   "metadata": {},
   "outputs": [],
   "source": [
    "import random as r\n",
    "class Fish:\n",
    "    def __init__(self):\n",
    "        self.x=r.randint(0,10)\n",
    "        self.y=r.randint(0,10)\n",
    "    def move(self):\n",
    "        self.x-=1\n",
    "        print(\"location:\",self.x,self.y)\n",
    "class GoldFish(Fish):\n",
    "    pass\n",
    "class Shark(Fish):\n",
    "    def __init__(self):\n",
    "        #不能写成super().__init__(self)\n",
    "        super().__init__()\n",
    "        self.hungry=True\n",
    "    def eat(self):\n",
    "        if self.hungry:\n",
    "            print(\"eat\")\n",
    "            self.hungry=False\n",
    "        else:\n",
    "            print(\"full\")"
   ]
  },
  {
   "cell_type": "code",
   "execution_count": 47,
   "metadata": {},
   "outputs": [
    {
     "name": "stdout",
     "output_type": "stream",
     "text": [
      "location: 2 4\n"
     ]
    }
   ],
   "source": [
    "shark=Shark()\n",
    "shark.move()"
   ]
  },
  {
   "cell_type": "markdown",
   "metadata": {},
   "source": [
    "### 多重继承"
   ]
  },
  {
   "cell_type": "code",
   "execution_count": 48,
   "metadata": {},
   "outputs": [
    {
     "name": "stdout",
     "output_type": "stream",
     "text": [
      "location: 0 3\n"
     ]
    }
   ],
   "source": [
    "#尽量少用\n",
    "import random as r\n",
    "class Fish:\n",
    "    def __init__(self):\n",
    "        self.x=r.randint(0,10)\n",
    "        self.y=r.randint(0,10)\n",
    "    def move(self):\n",
    "        self.x-=1\n",
    "        print(\"location:\",self.x,self.y)\n",
    "class Fish1:\n",
    "    def __init__(self):\n",
    "        self.x=r.randint(5,10)\n",
    "        self.y=r.randint(5,10)\n",
    "    def move1(self):\n",
    "        self.x-=1\n",
    "        print(\"location:\",self.x,self.y)\n",
    "class Shark(Fish,Fish1):\n",
    "    def __init__(self):\n",
    "        #不能写成super().__init__(self)\n",
    "        super().__init__()\n",
    "        self.hungry=True\n",
    "    def eat(self):\n",
    "        if self.hungry:\n",
    "            print(\"eat\")\n",
    "            self.hungry=False\n",
    "        else:\n",
    "            print(\"full\")\n",
    "shark=Shark()\n",
    "shark.move()"
   ]
  },
  {
   "cell_type": "code",
   "execution_count": 49,
   "metadata": {},
   "outputs": [
    {
     "name": "stdout",
     "output_type": "stream",
     "text": [
      "location: -1 3\n"
     ]
    }
   ],
   "source": [
    "shark.move1()"
   ]
  },
  {
   "cell_type": "markdown",
   "metadata": {},
   "source": [
    "##### 钻石继承"
   ]
  },
  {
   "cell_type": "code",
   "execution_count": 50,
   "metadata": {},
   "outputs": [
    {
     "name": "stdout",
     "output_type": "stream",
     "text": [
      "8\n"
     ]
    }
   ],
   "source": [
    "#如果子类继承自两个单独的超类，而那两个超类又继承自同一个公共基类，那么就构成了钻石继承体系。这种继承体系很像竖立的菱形，也称作菱形继承。\n",
    "class Base:\n",
    "    def __init__(self, value):\n",
    "        self.value = value \n",
    "class One(Base):\n",
    "    def __init__(self, value):\n",
    "        Base.__init__(self, value)\n",
    "        self.value *= 2 \n",
    "class Two(Base):\n",
    "    def __init__(self, value):\n",
    "        Base.__init__(self, value)\n",
    "        self.value += 3\n",
    "class Ways(One, Two):\n",
    "    def __init__(self, value):\n",
    "        One.__init__(self, value)\n",
    "        Two.__init__(self, value)\n",
    "foo=Ways(5)\n",
    "print(foo.value)"
   ]
  },
  {
   "cell_type": "code",
   "execution_count": 51,
   "metadata": {},
   "outputs": [
    {
     "name": "stdout",
     "output_type": "stream",
     "text": [
      "16\n"
     ]
    }
   ],
   "source": [
    "#解决这个问题的方式是使用super方法，根据方法解析顺序(MRO)以标准化的流程来安排超类之间的初始化顺序，它也能够保证钻石顶部的公共基类的__init__方法之运行一次\n",
    "class Base:\n",
    "    def __init__(self, value):\n",
    "        self.value = value\n",
    "class One(Base):\n",
    "    def __init__(self, value):\n",
    "        super(One, self).__init__(value)\n",
    "        self.value *= 2 \n",
    "class Two(Base):\n",
    "    def __init__(self, value):\n",
    "        super(Two, self).__init__(value)\n",
    "        self.value += 3\n",
    "class Ways(One, Two):\n",
    "    def __init__(self, value):\n",
    "        super(Ways, self).__init__(value)\n",
    "foo = Ways(5)\n",
    "print(foo.value)"
   ]
  },
  {
   "cell_type": "code",
   "execution_count": 52,
   "metadata": {},
   "outputs": [
    {
     "name": "stdout",
     "output_type": "stream",
     "text": [
      "13\n"
     ]
    }
   ],
   "source": [
    "'''\n",
    "这是怎么回事？为何和我们设想的刚好相反。应该先运行One.__init__，然后运行Two.__init__。但实际却不一样，程序的运行会与Ways的MRO顺序保持一致。调用Ways(5)时，它会调用One.__init__，One.__init__又调用Two.__init__，Two.__init__在调用Base.__init__。到达了钻石继承的顶端，所有的初始化方法会按照与刚才那些__init__相反的顺序操作。\n",
    "'''\n",
    "#解决方法\n",
    "class Base:\n",
    "    def __init__(self, value):\n",
    "        self.value = value \n",
    "class One(Base):\n",
    "    def __init__(self, value):\n",
    "        super(One, self).__init__(value * 2)\n",
    "class Two(Base):\n",
    "    def __init__(self, value):\n",
    "        super(Two, self).__init__(value + 3)\n",
    "class Ways(One, Two):\n",
    "    def __init__(self, value):\n",
    "        super(Ways, self).__init__(value)\n",
    "foo = Ways(5)\n",
    "print(foo.value)"
   ]
  },
  {
   "cell_type": "markdown",
   "metadata": {},
   "source": [
    "### property()"
   ]
  },
  {
   "cell_type": "code",
   "execution_count": 53,
   "metadata": {},
   "outputs": [],
   "source": [
    "#7.property(fget=None,fset=None,fdel=None,doc=None)\n",
    "class C:\n",
    "    def __init__(self,size=10):\n",
    "        self.size=size\n",
    "    def getSize(self):\n",
    "        return self.size\n",
    "    def setSize(self,value):\n",
    "        self.size=value\n",
    "    def delSize(self):\n",
    "        del self.size\n",
    "    x=property(getSize,setSize,delSize)"
   ]
  },
  {
   "cell_type": "code",
   "execution_count": 54,
   "metadata": {},
   "outputs": [
    {
     "data": {
      "text/plain": [
       "10"
      ]
     },
     "execution_count": 54,
     "metadata": {},
     "output_type": "execute_result"
    }
   ],
   "source": [
    "c=C()\n",
    "c.x"
   ]
  },
  {
   "cell_type": "code",
   "execution_count": 55,
   "metadata": {},
   "outputs": [
    {
     "data": {
      "text/plain": [
       "12"
      ]
     },
     "execution_count": 55,
     "metadata": {},
     "output_type": "execute_result"
    }
   ],
   "source": [
    "c.x=12\n",
    "c.x"
   ]
  },
  {
   "cell_type": "code",
   "execution_count": 56,
   "metadata": {},
   "outputs": [
    {
     "data": {
      "text/plain": [
       "12"
      ]
     },
     "execution_count": 56,
     "metadata": {},
     "output_type": "execute_result"
    }
   ],
   "source": [
    "c.size"
   ]
  },
  {
   "cell_type": "code",
   "execution_count": 57,
   "metadata": {},
   "outputs": [
    {
     "ename": "AttributeError",
     "evalue": "'C' object has no attribute 'size'",
     "output_type": "error",
     "traceback": [
      "\u001b[0;31m---------------------------------------------------------------------------\u001b[0m",
      "\u001b[0;31mAttributeError\u001b[0m                            Traceback (most recent call last)",
      "\u001b[0;32m<ipython-input-57-83b94700764a>\u001b[0m in \u001b[0;36m<module>\u001b[0;34m()\u001b[0m\n\u001b[1;32m      1\u001b[0m \u001b[1;32mdel\u001b[0m \u001b[0mc\u001b[0m\u001b[1;33m.\u001b[0m\u001b[0mx\u001b[0m\u001b[1;33m\u001b[0m\u001b[1;33m\u001b[0m\u001b[0m\n\u001b[0;32m----> 2\u001b[0;31m \u001b[0mc\u001b[0m\u001b[1;33m.\u001b[0m\u001b[0mx\u001b[0m\u001b[1;33m\u001b[0m\u001b[1;33m\u001b[0m\u001b[0m\n\u001b[0m",
      "\u001b[0;32m<ipython-input-53-d4250a522fe2>\u001b[0m in \u001b[0;36mgetSize\u001b[0;34m(self)\u001b[0m\n\u001b[1;32m      4\u001b[0m         \u001b[0mself\u001b[0m\u001b[1;33m.\u001b[0m\u001b[0msize\u001b[0m\u001b[1;33m=\u001b[0m\u001b[0msize\u001b[0m\u001b[1;33m\u001b[0m\u001b[1;33m\u001b[0m\u001b[0m\n\u001b[1;32m      5\u001b[0m     \u001b[1;32mdef\u001b[0m \u001b[0mgetSize\u001b[0m\u001b[1;33m(\u001b[0m\u001b[0mself\u001b[0m\u001b[1;33m)\u001b[0m\u001b[1;33m:\u001b[0m\u001b[1;33m\u001b[0m\u001b[1;33m\u001b[0m\u001b[0m\n\u001b[0;32m----> 6\u001b[0;31m         \u001b[1;32mreturn\u001b[0m \u001b[0mself\u001b[0m\u001b[1;33m.\u001b[0m\u001b[0msize\u001b[0m\u001b[1;33m\u001b[0m\u001b[1;33m\u001b[0m\u001b[0m\n\u001b[0m\u001b[1;32m      7\u001b[0m     \u001b[1;32mdef\u001b[0m \u001b[0msetSize\u001b[0m\u001b[1;33m(\u001b[0m\u001b[0mself\u001b[0m\u001b[1;33m,\u001b[0m\u001b[0mvalue\u001b[0m\u001b[1;33m)\u001b[0m\u001b[1;33m:\u001b[0m\u001b[1;33m\u001b[0m\u001b[1;33m\u001b[0m\u001b[0m\n\u001b[1;32m      8\u001b[0m         \u001b[0mself\u001b[0m\u001b[1;33m.\u001b[0m\u001b[0msize\u001b[0m\u001b[1;33m=\u001b[0m\u001b[0mvalue\u001b[0m\u001b[1;33m\u001b[0m\u001b[1;33m\u001b[0m\u001b[0m\n",
      "\u001b[0;31mAttributeError\u001b[0m: 'C' object has no attribute 'size'"
     ]
    }
   ],
   "source": [
    "del c.x\n",
    "c.x"
   ]
  },
  {
   "cell_type": "code",
   "execution_count": 58,
   "metadata": {},
   "outputs": [
    {
     "ename": "AttributeError",
     "evalue": "'C' object has no attribute 'size'",
     "output_type": "error",
     "traceback": [
      "\u001b[0;31m---------------------------------------------------------------------------\u001b[0m",
      "\u001b[0;31mAttributeError\u001b[0m                            Traceback (most recent call last)",
      "\u001b[0;32m<ipython-input-58-afa47dd09f1f>\u001b[0m in \u001b[0;36m<module>\u001b[0;34m()\u001b[0m\n\u001b[0;32m----> 1\u001b[0;31m \u001b[0mc\u001b[0m\u001b[1;33m.\u001b[0m\u001b[0msize\u001b[0m\u001b[1;33m\u001b[0m\u001b[1;33m\u001b[0m\u001b[0m\n\u001b[0m",
      "\u001b[0;31mAttributeError\u001b[0m: 'C' object has no attribute 'size'"
     ]
    }
   ],
   "source": [
    "c.size"
   ]
  },
  {
   "cell_type": "markdown",
   "metadata": {},
   "source": [
    "<font color=#ff0000 size=60>第十三章</font>"
   ]
  },
  {
   "cell_type": "markdown",
   "metadata": {},
   "source": [
    "### 导入模块"
   ]
  },
  {
   "cell_type": "code",
   "execution_count": 59,
   "metadata": {},
   "outputs": [
    {
     "data": {
      "text/plain": [
       "'\\n导入模块的3种方法：\\n1.import 模块名\\n2.from 模块名 import 函数名\\n3.import 模块名 as 别名\\n推荐用第三种\\n'"
      ]
     },
     "execution_count": 59,
     "metadata": {},
     "output_type": "execute_result"
    }
   ],
   "source": [
    "'''\n",
    "导入模块的3种方法：\n",
    "1.import 模块名\n",
    "2.from 模块名 import 函数名\n",
    "3.import 模块名 as 别名\n",
    "推荐用第三种\n",
    "'''"
   ]
  },
  {
   "cell_type": "markdown",
   "metadata": {},
   "source": [
    "### 搜索路径 P149"
   ]
  },
  {
   "cell_type": "code",
   "execution_count": 60,
   "metadata": {},
   "outputs": [
    {
     "data": {
      "text/plain": [
       "['',\n",
       " 'D:\\\\Anaconda3\\\\python36.zip',\n",
       " 'D:\\\\Anaconda3\\\\DLLs',\n",
       " 'D:\\\\Anaconda3\\\\lib',\n",
       " 'D:\\\\Anaconda3',\n",
       " 'D:\\\\Anaconda3\\\\lib\\\\site-packages',\n",
       " 'D:\\\\Anaconda3\\\\lib\\\\site-packages\\\\Sphinx-1.5.1-py3.6.egg',\n",
       " 'D:\\\\Anaconda3\\\\lib\\\\site-packages\\\\easygui-0.98.0_unreleased-py3.6.egg',\n",
       " 'D:\\\\Anaconda3\\\\lib\\\\site-packages\\\\win32',\n",
       " 'D:\\\\Anaconda3\\\\lib\\\\site-packages\\\\win32\\\\lib',\n",
       " 'D:\\\\Anaconda3\\\\lib\\\\site-packages\\\\Pythonwin',\n",
       " 'D:\\\\Anaconda3\\\\lib\\\\site-packages\\\\IPython\\\\extensions',\n",
       " 'C:\\\\Users\\\\Kobayashi\\\\.ipython']"
      ]
     },
     "execution_count": 60,
     "metadata": {},
     "output_type": "execute_result"
    }
   ],
   "source": [
    "import sys\n",
    "sys.path"
   ]
  },
  {
   "cell_type": "code",
   "execution_count": 61,
   "metadata": {},
   "outputs": [],
   "source": [
    "#利用sys.path.append(path1)把模块所在的位置添加至搜索路径中"
   ]
  },
  {
   "cell_type": "markdown",
   "metadata": {},
   "source": [
    "### 包"
   ]
  },
  {
   "cell_type": "code",
   "execution_count": 62,
   "metadata": {},
   "outputs": [],
   "source": [
    "#把模块分门别类地存放在不同文件夹"
   ]
  },
  {
   "cell_type": "code",
   "execution_count": 63,
   "metadata": {},
   "outputs": [
    {
     "data": {
      "text/plain": [
       "'\\n创建一个包的三个步骤：\\n1.新建一个文件夹存放相应的模块\\n2.新建__init__.py文件\\n3.将模块放入文件夹中\\n'"
      ]
     },
     "execution_count": 63,
     "metadata": {},
     "output_type": "execute_result"
    }
   ],
   "source": [
    "'''\n",
    "创建一个包的三个步骤：\n",
    "1.新建一个文件夹存放相应的模块\n",
    "2.新建__init__.py文件\n",
    "3.将模块放入文件夹中\n",
    "'''"
   ]
  },
  {
   "cell_type": "markdown",
   "metadata": {},
   "source": [
    "### 注意的点 P115"
   ]
  },
  {
   "cell_type": "code",
   "execution_count": 64,
   "metadata": {},
   "outputs": [],
   "source": [
    "'''\n",
    "1.不是所有的模块都有__all__属性\n",
    "2.如果一个模块设置了__all__属性，那么使用from X import *导入命名空间时\n",
    "只有__all__属性的名字才会被导入，其他的名字不受影响\n",
    "'''\n",
    "from timeit import * "
   ]
  },
  {
   "cell_type": "code",
   "execution_count": 68,
   "metadata": {},
   "outputs": [
    {
     "name": "stdout",
     "output_type": "stream",
     "text": [
      "Tool for measuring execution time of small code snippets.\n",
      "\n",
      "This module avoids a number of common traps for measuring execution\n",
      "times.  See also Tim Peters' introduction to the Algorithms chapter in\n",
      "the Python Cookbook, published by O'Reilly.\n",
      "\n",
      "Library usage: see the Timer class.\n",
      "\n",
      "Command line usage:\n",
      "    python timeit.py [-n N] [-r N] [-s S] [-t] [-c] [-p] [-h] [--] [statement]\n",
      "\n",
      "Options:\n",
      "  -n/--number N: how many times to execute 'statement' (default: see below)\n",
      "  -r/--repeat N: how many times to repeat the timer (default 3)\n",
      "  -s/--setup S: statement to be executed once initially (default 'pass').\n",
      "                Execution time of this setup statement is NOT timed.\n",
      "  -p/--process: use time.process_time() (default is time.perf_counter())\n",
      "  -t/--time: use time.time() (deprecated)\n",
      "  -c/--clock: use time.clock() (deprecated)\n",
      "  -v/--verbose: print raw timing results; repeat for more digits precision\n",
      "  -u/--unit: set the output time unit (usec, msec, or sec)\n",
      "  -h/--help: print this usage message and exit\n",
      "  --: separate options from statement, use when statement starts with -\n",
      "  statement: statement to be timed (default 'pass')\n",
      "\n",
      "A multi-line statement may be given by specifying each line as a\n",
      "separate argument; indented lines are possible by enclosing an\n",
      "argument in quotes and using leading spaces.  Multiple -s options are\n",
      "treated similarly.\n",
      "\n",
      "If -n is not given, a suitable number of loops is calculated by trying\n",
      "successive powers of 10 until the total time is at least 0.2 seconds.\n",
      "\n",
      "Note: there is a certain baseline overhead associated with executing a\n",
      "pass statement.  It differs between versions.  The code here doesn't try\n",
      "to hide it, but you should be aware of it.  The baseline overhead can be\n",
      "measured by invoking the program without arguments.\n",
      "\n",
      "Classes:\n",
      "\n",
      "    Timer\n",
      "\n",
      "Functions:\n",
      "\n",
      "    timeit(string, string) -> float\n",
      "    repeat(string, string) -> list\n",
      "    default_timer() -> float\n",
      "\n",
      "\n"
     ]
    }
   ],
   "source": [
    "import timeit\n",
    "print(timeit.__doc__)"
   ]
  },
  {
   "cell_type": "code",
   "execution_count": 69,
   "metadata": {},
   "outputs": [
    {
     "name": "stdout",
     "output_type": "stream",
     "text": [
      "['Timer', 'timeit', 'repeat', 'default_timer']\n"
     ]
    }
   ],
   "source": [
    "print(timeit.__all__)"
   ]
  },
  {
   "cell_type": "code",
   "execution_count": 70,
   "metadata": {},
   "outputs": [
    {
     "data": {
      "text/plain": [
       "timeit.Timer"
      ]
     },
     "execution_count": 70,
     "metadata": {},
     "output_type": "execute_result"
    }
   ],
   "source": [
    "Timer"
   ]
  },
  {
   "cell_type": "code",
   "execution_count": 71,
   "metadata": {},
   "outputs": [
    {
     "ename": "NameError",
     "evalue": "name 'gc' is not defined",
     "output_type": "error",
     "traceback": [
      "\u001b[0;31m---------------------------------------------------------------------------\u001b[0m",
      "\u001b[0;31mNameError\u001b[0m                                 Traceback (most recent call last)",
      "\u001b[0;32m<ipython-input-71-397ed4d3a775>\u001b[0m in \u001b[0;36m<module>\u001b[0;34m()\u001b[0m\n\u001b[0;32m----> 1\u001b[0;31m \u001b[0mgc\u001b[0m\u001b[1;33m\u001b[0m\u001b[1;33m\u001b[0m\u001b[0m\n\u001b[0m",
      "\u001b[0;31mNameError\u001b[0m: name 'gc' is not defined"
     ]
    }
   ],
   "source": [
    "gc"
   ]
  },
  {
   "cell_type": "code",
   "execution_count": null,
   "metadata": {},
   "outputs": [],
   "source": []
  }
 ],
 "metadata": {
  "kernelspec": {
   "display_name": "Python 3",
   "language": "python",
   "name": "python3"
  },
  "language_info": {
   "codemirror_mode": {
    "name": "ipython",
    "version": 3
   },
   "file_extension": ".py",
   "mimetype": "text/x-python",
   "name": "python",
   "nbconvert_exporter": "python",
   "pygments_lexer": "ipython3",
   "version": "3.6.8"
  }
 },
 "nbformat": 4,
 "nbformat_minor": 2
}
